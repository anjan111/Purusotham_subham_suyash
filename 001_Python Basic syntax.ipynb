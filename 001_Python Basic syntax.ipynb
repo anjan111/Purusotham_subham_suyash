{
 "cells": [
  {
   "cell_type": "markdown",
   "metadata": {},
   "source": [
    "# Python Basic Syntax\n",
    "\n",
    "===>>> Syntax :-  The structor for writing the program\n",
    "\n",
    "\n",
    "===>>> program :-  Collection of instructions  to do any one specific task\n",
    "\n",
    "\n",
    "====>>> Instruction :-   A line of code with in the program\n",
    "\n",
    "\n",
    "====>>> Types of instructions : 2 types\n",
    "\n",
    "\n",
    "====>>> 1. comments  ===>>> An instruction which can't be executable \n",
    "    \n",
    "                        # ----->>  Single Line comment\n",
    "                        \n",
    "                        ''' ''' ->  Multiline comment \n",
    "\n",
    "\n",
    "===>>> Statements  ====>>> An instructions which can be executable \n",
    "\n",
    "\n",
    "===>>>  Keywords\n",
    "================\n",
    "\n",
    "===>>> predefined words/ built -in words\n",
    "\n",
    "===>>> each and every keyword which was specially defined for it\n",
    "\n",
    "===>>> keyword python file which is having kwlist --->> all keywords\n",
    "\n",
    "\n",
    "\n",
    "\n",
    "\n",
    "\n",
    "===>>> Identifiers :-\n",
    "-----------------------------\n",
    "\n",
    "===>>> User defined / programmer words\n",
    "\n",
    "===>>> To give the name entities for variables , function, classes\n",
    "\n",
    "Rules :-\n",
    "---------\n",
    "\n",
    "===>>  we can use alphabets   a - z  /  A- Z\n",
    "\n",
    "===>>  We can use digits   0 - 9\n",
    "\n",
    "===>>  We can use underscore _\n",
    "\n",
    "===>>  Don't start with digits\n",
    "\n",
    "===>> Don't use keywords\n",
    "\n",
    "===>> Don't use special Characters\n",
    "\n",
    "====>>> Variables :-\n",
    "---------------------------\n",
    "\n",
    "\n",
    "===>>> A name it can access the data from memory loc , we can store the daata into memory\n",
    "\n",
    "# syn of variable\n",
    "\n",
    "identifier   = data( any thing)\n",
    "\n",
    "\n",
    "====>>> Datatypes"
   ]
  },
  {
   "cell_type": "code",
   "execution_count": 1,
   "metadata": {},
   "outputs": [
    {
     "name": "stdout",
     "output_type": "stream",
     "text": [
      "hello\n"
     ]
    }
   ],
   "source": [
    "# single line commnet\n",
    "\n",
    "'''\n",
    "===>> this is \n",
    "multiline comment\n",
    "\n",
    "'''\n",
    "print \"hello\" # statement "
   ]
  },
  {
   "cell_type": "code",
   "execution_count": 2,
   "metadata": {},
   "outputs": [
    {
     "name": "stdout",
     "output_type": "stream",
     "text": [
      "['and', 'as', 'assert', 'break', 'class', 'continue', 'def', 'del', 'elif', 'else', 'except', 'exec', 'finally', 'for', 'from', 'global', 'if', 'import', 'in', 'is', 'lambda', 'not', 'or', 'pass', 'print', 'raise', 'return', 'try', 'while', 'with', 'yield']\n"
     ]
    }
   ],
   "source": [
    "# import --->> is a keyword , which  is used for to import the python files\n",
    "# print --->> is a keyword , which is used for to display the data\n",
    "import keyword\n",
    "print keyword.kwlist"
   ]
  },
  {
   "cell_type": "code",
   "execution_count": 4,
   "metadata": {},
   "outputs": [
    {
     "name": "stdout",
     "output_type": "stream",
     "text": [
      "123\n",
      "21794560\n",
      "anjan\n"
     ]
    }
   ],
   "source": [
    "# variables\n",
    "\n",
    "anjan = 123\n",
    "print anjan\n",
    "print id(anjan)# id is used for memory loc\n",
    "print \"anjan\""
   ]
  },
  {
   "cell_type": "code",
   "execution_count": 5,
   "metadata": {},
   "outputs": [
    {
     "name": "stdout",
     "output_type": "stream",
     "text": [
      "123\n"
     ]
    }
   ],
   "source": [
    "_an_AS12_   = 123\n",
    "print _an_AS12_"
   ]
  },
  {
   "cell_type": "code",
   "execution_count": 6,
   "metadata": {},
   "outputs": [
    {
     "ename": "SyntaxError",
     "evalue": "invalid syntax (<ipython-input-6-2f97c04d9406>, line 1)",
     "output_type": "error",
     "traceback": [
      "\u001b[1;36m  File \u001b[1;32m\"<ipython-input-6-2f97c04d9406>\"\u001b[1;36m, line \u001b[1;32m1\u001b[0m\n\u001b[1;33m    an@a  = 123\u001b[0m\n\u001b[1;37m      ^\u001b[0m\n\u001b[1;31mSyntaxError\u001b[0m\u001b[1;31m:\u001b[0m invalid syntax\n"
     ]
    }
   ],
   "source": [
    "an@a  = 123"
   ]
  },
  {
   "cell_type": "code",
   "execution_count": 7,
   "metadata": {},
   "outputs": [
    {
     "ename": "SyntaxError",
     "evalue": "invalid syntax (<ipython-input-7-39d73791db41>, line 1)",
     "output_type": "error",
     "traceback": [
      "\u001b[1;36m  File \u001b[1;32m\"<ipython-input-7-39d73791db41>\"\u001b[1;36m, line \u001b[1;32m1\u001b[0m\n\u001b[1;33m    3var =13\u001b[0m\n\u001b[1;37m       ^\u001b[0m\n\u001b[1;31mSyntaxError\u001b[0m\u001b[1;31m:\u001b[0m invalid syntax\n"
     ]
    }
   ],
   "source": [
    "3var =13"
   ]
  },
  {
   "cell_type": "code",
   "execution_count": 8,
   "metadata": {},
   "outputs": [
    {
     "ename": "SyntaxError",
     "evalue": "invalid syntax (<ipython-input-8-1d33d7e05c41>, line 1)",
     "output_type": "error",
     "traceback": [
      "\u001b[1;36m  File \u001b[1;32m\"<ipython-input-8-1d33d7e05c41>\"\u001b[1;36m, line \u001b[1;32m1\u001b[0m\n\u001b[1;33m    while =123\u001b[0m\n\u001b[1;37m          ^\u001b[0m\n\u001b[1;31mSyntaxError\u001b[0m\u001b[1;31m:\u001b[0m invalid syntax\n"
     ]
    }
   ],
   "source": [
    "while =123"
   ]
  },
  {
   "cell_type": "code",
   "execution_count": null,
   "metadata": {},
   "outputs": [],
   "source": [
    "# python datatypes :-\n",
    "#---------------------\n",
    "'''\n",
    "====>> Fundametal Datatype :-\n",
    "---------------------------\n",
    "\n",
    "====>> A single varibale can hold the =single daata\n",
    "\n",
    "    1. int , float, complex, bool, None\n",
    "\n",
    "====>> Sequencial Datatype\n",
    "    1. str \"\"\n",
    "    2. list []\n",
    "    3.tuple ()\n",
    "    4.set   {}\n",
    "    5.dict  {}\n",
    "'''\n",
    "# Python Bulti-in functions\n",
    "# input() ====>> read the data\n",
    "# id() ====>>. memoey\n",
    "# type()===>> datatype\n",
    "# print ===>> to display"
   ]
  },
  {
   "cell_type": "code",
   "execution_count": 1,
   "metadata": {},
   "outputs": [
    {
     "name": "stdout",
     "output_type": "stream",
     "text": [
      "enter int : 789\n",
      "789\n",
      "68315160\n",
      "<type 'int'>\n"
     ]
    }
   ],
   "source": [
    "var = input(\"enter int : \")\n",
    "print var\n",
    "print id(var)\n",
    "print type(var)"
   ]
  },
  {
   "cell_type": "code",
   "execution_count": 2,
   "metadata": {},
   "outputs": [
    {
     "name": "stdout",
     "output_type": "stream",
     "text": [
      "enter float : 78.6546468\n",
      "78.6546468\n",
      "68315856\n",
      "<type 'float'>\n"
     ]
    }
   ],
   "source": [
    "var = input(\"enter float : \")\n",
    "print var\n",
    "print id(var)\n",
    "print type(var)"
   ]
  },
  {
   "cell_type": "code",
   "execution_count": 3,
   "metadata": {},
   "outputs": [
    {
     "name": "stdout",
     "output_type": "stream",
     "text": [
      "enter bool : True\n",
      "True\n",
      "1684324072\n",
      "<type 'bool'>\n"
     ]
    }
   ],
   "source": [
    "var = input(\"enter bool : \")\n",
    "print var\n",
    "print id(var)\n",
    "print type(var)"
   ]
  },
  {
   "cell_type": "code",
   "execution_count": 5,
   "metadata": {},
   "outputs": [
    {
     "name": "stdout",
     "output_type": "stream",
     "text": [
      "enter bool: False\n",
      "False\n",
      "1684323656\n",
      "<type 'bool'>\n"
     ]
    }
   ],
   "source": [
    "var = input(\"enter bool: \")\n",
    "print var\n",
    "print id(var)\n",
    "print type(var)"
   ]
  },
  {
   "cell_type": "code",
   "execution_count": 6,
   "metadata": {},
   "outputs": [
    {
     "name": "stdout",
     "output_type": "stream",
     "text": [
      "enter complex : 56 + 34j\n",
      "(56+34j)\n",
      "68835664\n",
      "<type 'complex'>\n"
     ]
    }
   ],
   "source": [
    "var = input(\"enter complex : \")\n",
    "print var\n",
    "print id(var)\n",
    "print type(var)"
   ]
  },
  {
   "cell_type": "code",
   "execution_count": 7,
   "metadata": {},
   "outputs": [
    {
     "name": "stdout",
     "output_type": "stream",
     "text": [
      "enterNone: None\n",
      "None\n",
      "1684278392\n",
      "<type 'NoneType'>\n"
     ]
    }
   ],
   "source": [
    "var = input(\"enterNone: \")\n",
    "print var\n",
    "print id(var)\n",
    "print type(var)"
   ]
  },
  {
   "cell_type": "code",
   "execution_count": 8,
   "metadata": {},
   "outputs": [
    {
     "name": "stdout",
     "output_type": "stream",
     "text": [
      "enter str : \"soc\"\n",
      "soc\n",
      "68766016\n",
      "<type 'str'>\n"
     ]
    }
   ],
   "source": [
    "var = input(\"enter str : \")\n",
    "print var\n",
    "print id(var)\n",
    "print type(var)"
   ]
  },
  {
   "cell_type": "code",
   "execution_count": 9,
   "metadata": {},
   "outputs": [
    {
     "name": "stdout",
     "output_type": "stream",
     "text": [
      "enter list: [12,34,56]\n",
      "[12, 34, 56]\n",
      "72989384\n",
      "<type 'list'>\n"
     ]
    }
   ],
   "source": [
    "var = input(\"enter list: \")\n",
    "print var\n",
    "print id(var)\n",
    "print type(var)"
   ]
  },
  {
   "cell_type": "code",
   "execution_count": 10,
   "metadata": {},
   "outputs": [
    {
     "name": "stdout",
     "output_type": "stream",
     "text": [
      "enter tuple : (12,45,2)\n",
      "(12, 45, 2)\n",
      "74681800\n",
      "<type 'tuple'>\n"
     ]
    }
   ],
   "source": [
    "var = input(\"enter tuple : \")\n",
    "print var\n",
    "print id(var)\n",
    "print type(var)"
   ]
  },
  {
   "cell_type": "code",
   "execution_count": 11,
   "metadata": {},
   "outputs": [
    {
     "name": "stdout",
     "output_type": "stream",
     "text": [
      "enter set : {12,89,23}\n",
      "set([89, 12, 23])\n",
      "65539880\n",
      "<type 'set'>\n"
     ]
    }
   ],
   "source": [
    "var = input(\"enter set : \")\n",
    "print var\n",
    "print id(var)\n",
    "print type(var)"
   ]
  },
  {
   "cell_type": "code",
   "execution_count": 12,
   "metadata": {},
   "outputs": [
    {
     "name": "stdout",
     "output_type": "stream",
     "text": [
      "enter dict : {34 : \"soc\" , 89 : \"soft\"}\n",
      "{89: 'soft', 34: 'soc'}\n",
      "75290824\n",
      "<type 'dict'>\n"
     ]
    }
   ],
   "source": [
    "var = input(\"enter dict : \")\n",
    "print var\n",
    "print id(var)\n",
    "print type(var)"
   ]
  },
  {
   "cell_type": "code",
   "execution_count": null,
   "metadata": {},
   "outputs": [],
   "source": []
  }
 ],
 "metadata": {
  "kernelspec": {
   "display_name": "Python 2",
   "language": "python",
   "name": "python2"
  },
  "language_info": {
   "codemirror_mode": {
    "name": "ipython",
    "version": 2
   },
   "file_extension": ".py",
   "mimetype": "text/x-python",
   "name": "python",
   "nbconvert_exporter": "python",
   "pygments_lexer": "ipython2",
   "version": "2.7.16"
  }
 },
 "nbformat": 4,
 "nbformat_minor": 2
}
