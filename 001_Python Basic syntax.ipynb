{
 "cells": [
  {
   "cell_type": "markdown",
   "metadata": {},
   "source": [
    "# Python Basic Syntax\n",
    "\n",
    "===>>> Syntax :-  The structor for writing the program\n",
    "\n",
    "\n",
    "===>>> program :-  Collection of instructions  to do any one specific task\n",
    "\n",
    "\n",
    "====>>> Instruction :-   A line of code with in the program\n",
    "\n",
    "\n",
    "====>>> Types of instructions : 2 types\n",
    "\n",
    "\n",
    "====>>> 1. comments  ===>>> An instruction which can't be executable \n",
    "    \n",
    "                        # ----->>  Single Line comment\n",
    "                        \n",
    "                        ''' ''' ->  Multiline comment \n",
    "\n",
    "\n",
    "===>>> Statements  ====>>> An instructions which can be executable \n",
    "\n",
    "\n",
    "===>>>  Keywords\n",
    "================\n",
    "\n",
    "===>>> predefined words/ built -in words\n",
    "\n",
    "===>>> each and every keyword which was specially defined for it\n",
    "\n",
    "===>>> keyword python file which is having kwlist --->> all keywords\n",
    "\n",
    "\n",
    "\n",
    "\n",
    "\n",
    "\n",
    "===>>> Identifiers :-\n",
    "-----------------------------\n",
    "\n",
    "===>>> User defined / programmer words\n",
    "\n",
    "===>>> To give the name entities for variables , function, classes\n",
    "\n",
    "Rules :-\n",
    "---------\n",
    "\n",
    "===>>  we can use alphabets   a - z  /  A- Z\n",
    "\n",
    "===>>  We can use digits   0 - 9\n",
    "\n",
    "===>>  We can use underscore _\n",
    "\n",
    "===>>  Don't start with digits\n",
    "\n",
    "===>> Don't use keywords\n",
    "\n",
    "===>> Don't use special Characters\n",
    "\n",
    "====>>> Variables :-\n",
    "---------------------------\n",
    "\n",
    "\n",
    "===>>> A name it can access the data from memory loc , we can store the daata into memory\n",
    "\n",
    "# syn of variable\n",
    "\n",
    "identifier   = data( any thing)\n",
    "\n",
    "\n",
    "====>>> Datatypes"
   ]
  },
  {
   "cell_type": "code",
   "execution_count": 1,
   "metadata": {},
   "outputs": [
    {
     "name": "stdout",
     "output_type": "stream",
     "text": [
      "hello\n"
     ]
    }
   ],
   "source": [
    "# single line commnet\n",
    "\n",
    "'''\n",
    "===>> this is \n",
    "multiline comment\n",
    "\n",
    "'''\n",
    "print \"hello\" # statement "
   ]
  },
  {
   "cell_type": "code",
   "execution_count": 2,
   "metadata": {},
   "outputs": [
    {
     "name": "stdout",
     "output_type": "stream",
     "text": [
      "['and', 'as', 'assert', 'break', 'class', 'continue', 'def', 'del', 'elif', 'else', 'except', 'exec', 'finally', 'for', 'from', 'global', 'if', 'import', 'in', 'is', 'lambda', 'not', 'or', 'pass', 'print', 'raise', 'return', 'try', 'while', 'with', 'yield']\n"
     ]
    }
   ],
   "source": [
    "# import --->> is a keyword , which  is used for to import the python files\n",
    "# print --->> is a keyword , which is used for to display the data\n",
    "import keyword\n",
    "print keyword.kwlist"
   ]
  },
  {
   "cell_type": "code",
   "execution_count": 4,
   "metadata": {},
   "outputs": [
    {
     "name": "stdout",
     "output_type": "stream",
     "text": [
      "123\n",
      "21794560\n",
      "anjan\n"
     ]
    }
   ],
   "source": [
    "# variables\n",
    "\n",
    "anjan = 123\n",
    "print anjan\n",
    "print id(anjan)# id is used for memory loc\n",
    "print \"anjan\""
   ]
  },
  {
   "cell_type": "code",
   "execution_count": 5,
   "metadata": {},
   "outputs": [
    {
     "name": "stdout",
     "output_type": "stream",
     "text": [
      "123\n"
     ]
    }
   ],
   "source": [
    "_an_AS12_   = 123\n",
    "print _an_AS12_"
   ]
  },
  {
   "cell_type": "code",
   "execution_count": 6,
   "metadata": {},
   "outputs": [
    {
     "ename": "SyntaxError",
     "evalue": "invalid syntax (<ipython-input-6-2f97c04d9406>, line 1)",
     "output_type": "error",
     "traceback": [
      "\u001b[1;36m  File \u001b[1;32m\"<ipython-input-6-2f97c04d9406>\"\u001b[1;36m, line \u001b[1;32m1\u001b[0m\n\u001b[1;33m    an@a  = 123\u001b[0m\n\u001b[1;37m      ^\u001b[0m\n\u001b[1;31mSyntaxError\u001b[0m\u001b[1;31m:\u001b[0m invalid syntax\n"
     ]
    }
   ],
   "source": [
    "an@a  = 123"
   ]
  },
  {
   "cell_type": "code",
   "execution_count": 7,
   "metadata": {},
   "outputs": [
    {
     "ename": "SyntaxError",
     "evalue": "invalid syntax (<ipython-input-7-39d73791db41>, line 1)",
     "output_type": "error",
     "traceback": [
      "\u001b[1;36m  File \u001b[1;32m\"<ipython-input-7-39d73791db41>\"\u001b[1;36m, line \u001b[1;32m1\u001b[0m\n\u001b[1;33m    3var =13\u001b[0m\n\u001b[1;37m       ^\u001b[0m\n\u001b[1;31mSyntaxError\u001b[0m\u001b[1;31m:\u001b[0m invalid syntax\n"
     ]
    }
   ],
   "source": [
    "3var =13"
   ]
  },
  {
   "cell_type": "code",
   "execution_count": 8,
   "metadata": {},
   "outputs": [
    {
     "ename": "SyntaxError",
     "evalue": "invalid syntax (<ipython-input-8-1d33d7e05c41>, line 1)",
     "output_type": "error",
     "traceback": [
      "\u001b[1;36m  File \u001b[1;32m\"<ipython-input-8-1d33d7e05c41>\"\u001b[1;36m, line \u001b[1;32m1\u001b[0m\n\u001b[1;33m    while =123\u001b[0m\n\u001b[1;37m          ^\u001b[0m\n\u001b[1;31mSyntaxError\u001b[0m\u001b[1;31m:\u001b[0m invalid syntax\n"
     ]
    }
   ],
   "source": [
    "while =123"
   ]
  },
  {
   "cell_type": "code",
   "execution_count": null,
   "metadata": {},
   "outputs": [],
   "source": [
    "# python datatypes\n",
    "\n",
    "# Python Bul"
   ]
  },
  {
   "cell_type": "code",
   "execution_count": null,
   "metadata": {},
   "outputs": [],
   "source": []
  }
 ],
 "metadata": {
  "kernelspec": {
   "display_name": "Python 2",
   "language": "python",
   "name": "python2"
  },
  "language_info": {
   "codemirror_mode": {
    "name": "ipython",
    "version": 2
   },
   "file_extension": ".py",
   "mimetype": "text/x-python",
   "name": "python",
   "nbconvert_exporter": "python",
   "pygments_lexer": "ipython2",
   "version": "2.7.16"
  }
 },
 "nbformat": 4,
 "nbformat_minor": 2
}
