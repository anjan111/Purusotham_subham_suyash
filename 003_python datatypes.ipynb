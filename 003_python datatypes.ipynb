{
 "cells": [
  {
   "cell_type": "markdown",
   "metadata": {},
   "source": [
    "### Datatypes\n",
    "\n",
    "===>>> To specify the what type of data will holded by variables\n",
    "\n",
    "### Types of datatypes\n",
    "\n",
    "##### 1.  ===>>> Fundamental Datatype \n",
    "\n",
    "=====>>> A single variable can hold sigle data\n",
    "\n",
    "1. int \n",
    "\n",
    "2. float\n",
    "\n",
    "3. complex\n",
    "\n",
    "4. bool\n",
    "\n",
    "5. Nonetype\n",
    "\n",
    "##### 2. ===>>> Sequencial datatype\n",
    "\n",
    "=====>>> A single variable can hold the multiple data elements\n",
    "\n",
    "1. str\n",
    "\n",
    "2. list\n",
    "\n",
    "3. tuple\n",
    "\n",
    "4. set\n",
    "\n",
    "5. dict"
   ]
  },
  {
   "cell_type": "code",
   "execution_count": 1,
   "metadata": {},
   "outputs": [
    {
     "name": "stdout",
     "output_type": "stream",
     "text": [
      "<type 'int'>\n"
     ]
    }
   ],
   "source": [
    "var = 12\n",
    "print type(var)"
   ]
  },
  {
   "cell_type": "code",
   "execution_count": 2,
   "metadata": {},
   "outputs": [
    {
     "name": "stdout",
     "output_type": "stream",
     "text": [
      "<type 'float'>\n"
     ]
    }
   ],
   "source": [
    "var = 12.123\n",
    "print type(var)"
   ]
  },
  {
   "cell_type": "code",
   "execution_count": 3,
   "metadata": {},
   "outputs": [
    {
     "name": "stdout",
     "output_type": "stream",
     "text": [
      "<type 'complex'>\n"
     ]
    }
   ],
   "source": [
    "var = 12 + 23j\n",
    "print type(var)"
   ]
  },
  {
   "cell_type": "code",
   "execution_count": 4,
   "metadata": {},
   "outputs": [
    {
     "name": "stdout",
     "output_type": "stream",
     "text": [
      "<type 'bool'>\n",
      "<type 'bool'>\n"
     ]
    }
   ],
   "source": [
    "var = True\n",
    "print type(var)\n",
    "var = False\n",
    "print type(var)"
   ]
  },
  {
   "cell_type": "code",
   "execution_count": 5,
   "metadata": {},
   "outputs": [
    {
     "name": "stdout",
     "output_type": "stream",
     "text": [
      "<type 'NoneType'>\n"
     ]
    }
   ],
   "source": [
    "var = None\n",
    "print type(var)"
   ]
  },
  {
   "cell_type": "markdown",
   "metadata": {},
   "source": [
    "### String datatype\n",
    "\n",
    "====>>> A group of characters we can store with in '' / \"\" / ''' '''"
   ]
  },
  {
   "cell_type": "code",
   "execution_count": 6,
   "metadata": {},
   "outputs": [
    {
     "name": "stdout",
     "output_type": "stream",
     "text": [
      "<type 'str'>\n",
      "<type 'str'>\n",
      "<type 'str'>\n",
      "<type 'str'>\n"
     ]
    }
   ],
   "source": [
    "var = 'python'\n",
    "print (type(var))\n",
    "var = \"python\"\n",
    "print type(var)\n",
    "var = '''python'''\n",
    "print type(var)\n",
    "var = \"\"\"python\"\"\"\n",
    "print type(var)"
   ]
  },
  {
   "cell_type": "code",
   "execution_count": 8,
   "metadata": {},
   "outputs": [
    {
     "name": "stdout",
     "output_type": "stream",
     "text": [
      "p\n",
      "y\n",
      "t\n",
      "h\n",
      "o\n",
      "n\n",
      "n\n",
      "o\n",
      "h\n",
      "t\n",
      "y\n",
      "p\n"
     ]
    }
   ],
   "source": [
    "### string indexing \n",
    "\n",
    "'''\n",
    "===>>> we can access each and every character from string \n",
    "\n",
    "1. positive indexing ( 0 to len -1)\n",
    "2. negative indexing ( -1 to -len )\n",
    "'''\n",
    "var = \"python\"\n",
    "print var[0]# p\n",
    "print var[1]# y\n",
    "print var[2]#t\n",
    "print var[3]# h\n",
    "print var[4]# o\n",
    "print var[5]# n\n",
    "var = \"python\"\n",
    "print var[-1]# n\n",
    "print var[-2]# o\n",
    "print var[-3]#h\n",
    "print var[-4]# t\n",
    "print var[-5]# y\n",
    "print var[-6]# p"
   ]
  },
  {
   "cell_type": "code",
   "execution_count": 10,
   "metadata": {},
   "outputs": [
    {
     "name": "stdout",
     "output_type": "stream",
     "text": [
      "rog\n",
      "python prog\n",
      "rogram\n"
     ]
    }
   ],
   "source": [
    "### string slicing\n",
    "'''\n",
    "We can access the group of continues characters from string at time\n",
    "\n",
    "var [ start : stop]\n",
    "\n",
    "start ---->>> 0\n",
    "stop  ---->>> len\n",
    "'''\n",
    "var = \"python program\"\n",
    "print var[8:11]# rog\n",
    "print var[:11]#python prog\n",
    "print var[8:]#rogram"
   ]
  },
  {
   "cell_type": "code",
   "execution_count": 11,
   "metadata": {},
   "outputs": [
    {
     "name": "stdout",
     "output_type": "stream",
     "text": [
      "tnr\n",
      "pto rg\n",
      "rr\n",
      "rog\n"
     ]
    }
   ],
   "source": [
    "### string dicing \n",
    "'''\n",
    "We can access the group of steps wise  characters from string at time\n",
    "\n",
    "var [ start : stop :step]\n",
    "\n",
    "start ---->>> 0\n",
    "step ----->>> 1\n",
    "stop  ---->>> len\n",
    "'''\n",
    "var = \"python program\"\n",
    "print var[2:11:3]# 2 ,5,8 #tnr\n",
    "\n",
    "print var[:11:2]#0,2,4,6,8,10 #pto rg\n",
    "print var[8::3]#8,11 #rr\n",
    "print var[8:11:]#8,9,10  #rog"
   ]
  },
  {
   "cell_type": "code",
   "execution_count": 13,
   "metadata": {},
   "outputs": [
    {
     "name": "stdout",
     "output_type": "stream",
     "text": [
      "o\n"
     ]
    },
    {
     "ename": "TypeError",
     "evalue": "'str' object does not support item assignment",
     "output_type": "error",
     "traceback": [
      "\u001b[1;31m---------------------------------------------------------------------------\u001b[0m",
      "\u001b[1;31mTypeError\u001b[0m                                 Traceback (most recent call last)",
      "\u001b[1;32m<ipython-input-13-c118663d2972>\u001b[0m in \u001b[0;36m<module>\u001b[1;34m()\u001b[0m\n\u001b[0;32m      7\u001b[0m \u001b[0mvar\u001b[0m \u001b[1;33m=\u001b[0m \u001b[1;34m\"python program\"\u001b[0m\u001b[1;33m\u001b[0m\u001b[0m\n\u001b[0;32m      8\u001b[0m \u001b[1;32mprint\u001b[0m \u001b[0mvar\u001b[0m\u001b[1;33m[\u001b[0m\u001b[1;36m9\u001b[0m\u001b[1;33m]\u001b[0m\u001b[1;31m#o\u001b[0m\u001b[1;33m\u001b[0m\u001b[0m\n\u001b[1;32m----> 9\u001b[1;33m \u001b[0mvar\u001b[0m\u001b[1;33m[\u001b[0m\u001b[1;36m9\u001b[0m\u001b[1;33m]\u001b[0m \u001b[1;33m=\u001b[0m \u001b[1;34m'O'\u001b[0m\u001b[1;33m\u001b[0m\u001b[0m\n\u001b[0m\u001b[0;32m     10\u001b[0m \u001b[1;32mprint\u001b[0m \u001b[0mvar\u001b[0m\u001b[1;33m\u001b[0m\u001b[0m\n",
      "\u001b[1;31mTypeError\u001b[0m: 'str' object does not support item assignment"
     ]
    }
   ],
   "source": [
    "### string datatype is immutable\n",
    "'''\n",
    "====>. we  can't modify the existing dadta\n",
    "'''\n",
    "### string slicing\n",
    "\n",
    "var = \"python program\"\n",
    "print var[9]#o\n",
    "var[9] = 'O'\n",
    "print var"
   ]
  },
  {
   "cell_type": "code",
   "execution_count": 28,
   "metadata": {},
   "outputs": [
    {
     "name": "stdout",
     "output_type": "stream",
     "text": [
      "pythonprogram\n",
      "pythonprogram\n",
      "*******\n",
      "pythonpythonpython\n",
      "pythonpythonpython\n",
      "*******\n",
      "False\n",
      "False\n",
      "*******\n",
      "True\n",
      "True\n",
      "*******\n",
      "False\n",
      "False\n",
      "*******\n",
      "True\n",
      "True\n",
      "*******\n",
      "False\n",
      "False\n",
      "*******\n",
      "True\n",
      "True\n"
     ]
    }
   ],
   "source": [
    "a = \"python\"\n",
    "b =\"program\"\n",
    "print a+b\n",
    "print a.__add__(b)\n",
    "print \"*******\"\n",
    "print a *3\n",
    "print a.__mul__(3)\n",
    "print \"*******\"\n",
    "print a<b\n",
    "print a.__lt__(b)\n",
    "print \"*******\"\n",
    "print a>b\n",
    "print a.__gt__(b)\n",
    "print \"*******\"\n",
    "print a == b\n",
    "print a.__eq__(b)\n",
    "\n",
    "print \"*******\"\n",
    "print a != b\n",
    "print a.__ne__(b)\n",
    "print \"*******\"\n",
    "print a<= b\n",
    "print a.__le__(b)\n",
    "print \"*******\"\n",
    "print a>=b\n",
    "print a.__ge__(b)"
   ]
  },
  {
   "cell_type": "code",
   "execution_count": null,
   "metadata": {},
   "outputs": [],
   "source": []
  },
  {
   "cell_type": "code",
   "execution_count": null,
   "metadata": {},
   "outputs": [],
   "source": []
  },
  {
   "cell_type": "code",
   "execution_count": 18,
   "metadata": {},
   "outputs": [
    {
     "data": {
      "text/plain": [
       "['__add__',\n",
       " '__class__',\n",
       " '__contains__',\n",
       " '__delattr__',\n",
       " '__doc__',\n",
       " '__eq__',\n",
       " '__format__',\n",
       " '__ge__',\n",
       " '__getattribute__',\n",
       " '__getitem__',\n",
       " '__getnewargs__',\n",
       " '__getslice__',\n",
       " '__gt__',\n",
       " '__hash__',\n",
       " '__init__',\n",
       " '__le__',\n",
       " '__len__',\n",
       " '__lt__',\n",
       " '__mod__',\n",
       " '__mul__',\n",
       " '__ne__',\n",
       " '__new__',\n",
       " '__reduce__',\n",
       " '__reduce_ex__',\n",
       " '__repr__',\n",
       " '__rmod__',\n",
       " '__rmul__',\n",
       " '__setattr__',\n",
       " '__sizeof__',\n",
       " '__str__',\n",
       " '__subclasshook__',\n",
       " '_formatter_field_name_split',\n",
       " '_formatter_parser',\n",
       " 'capitalize',\n",
       " 'center',\n",
       " 'count',\n",
       " 'decode',\n",
       " 'encode',\n",
       " 'endswith',\n",
       " 'expandtabs',\n",
       " 'find',\n",
       " 'format',\n",
       " 'index',\n",
       " 'isalnum',\n",
       " 'isalpha',\n",
       " 'isdigit',\n",
       " 'islower',\n",
       " 'isspace',\n",
       " 'istitle',\n",
       " 'isupper',\n",
       " 'join',\n",
       " 'ljust',\n",
       " 'lower',\n",
       " 'lstrip',\n",
       " 'partition',\n",
       " 'replace',\n",
       " 'rfind',\n",
       " 'rindex',\n",
       " 'rjust',\n",
       " 'rpartition',\n",
       " 'rsplit',\n",
       " 'rstrip',\n",
       " 'split',\n",
       " 'splitlines',\n",
       " 'startswith',\n",
       " 'strip',\n",
       " 'swapcase',\n",
       " 'title',\n",
       " 'translate',\n",
       " 'upper',\n",
       " 'zfill']"
      ]
     },
     "execution_count": 18,
     "metadata": {},
     "output_type": "execute_result"
    }
   ],
   "source": [
    "dir(str)"
   ]
  },
  {
   "cell_type": "code",
   "execution_count": 22,
   "metadata": {},
   "outputs": [
    {
     "data": {
      "text/plain": [
       "'0000python'"
      ]
     },
     "execution_count": 22,
     "metadata": {},
     "output_type": "execute_result"
    }
   ],
   "source": [
    "a = \"python\"\n",
    "a.zfill(10)"
   ]
  },
  {
   "cell_type": "code",
   "execution_count": 24,
   "metadata": {},
   "outputs": [
    {
     "data": {
      "text/plain": [
       "'11python11'"
      ]
     },
     "execution_count": 24,
     "metadata": {},
     "output_type": "execute_result"
    }
   ],
   "source": [
    "a = \"python\"\n",
    "a.center(10,'1')"
   ]
  },
  {
   "cell_type": "code",
   "execution_count": 25,
   "metadata": {},
   "outputs": [
    {
     "name": "stdout",
     "output_type": "stream",
     "text": [
      "2\n"
     ]
    }
   ],
   "source": [
    "a=\"python program\"\n",
    "print a.count('p')"
   ]
  },
  {
   "cell_type": "code",
   "execution_count": 30,
   "metadata": {},
   "outputs": [
    {
     "data": {
      "text/plain": [
       "'PYTHON'"
      ]
     },
     "execution_count": 30,
     "metadata": {},
     "output_type": "execute_result"
    }
   ],
   "source": [
    "a = \"python\"\n",
    "a.upper()"
   ]
  },
  {
   "cell_type": "code",
   "execution_count": 31,
   "metadata": {},
   "outputs": [
    {
     "data": {
      "text/plain": [
       "'pythonjhkj'"
      ]
     },
     "execution_count": 31,
     "metadata": {},
     "output_type": "execute_result"
    }
   ],
   "source": [
    "a = \"pythonJHkj\"\n",
    "a.lower()"
   ]
  },
  {
   "cell_type": "code",
   "execution_count": 32,
   "metadata": {},
   "outputs": [
    {
     "data": {
      "text/plain": [
       "'PYTHONjhKJ'"
      ]
     },
     "execution_count": 32,
     "metadata": {},
     "output_type": "execute_result"
    }
   ],
   "source": [
    "a = \"pythonJHkj\"\n",
    "a.swapcase()"
   ]
  },
  {
   "cell_type": "code",
   "execution_count": 33,
   "metadata": {},
   "outputs": [
    {
     "data": {
      "text/plain": [
       "'Python jhkj'"
      ]
     },
     "execution_count": 33,
     "metadata": {},
     "output_type": "execute_result"
    }
   ],
   "source": [
    "a = \"python JHkj\"\n",
    "a.capitalize()"
   ]
  },
  {
   "cell_type": "code",
   "execution_count": 34,
   "metadata": {},
   "outputs": [
    {
     "data": {
      "text/plain": [
       "'Python Jhkj'"
      ]
     },
     "execution_count": 34,
     "metadata": {},
     "output_type": "execute_result"
    }
   ],
   "source": [
    "a = \"python JHkj\"\n",
    "a.title()"
   ]
  },
  {
   "cell_type": "code",
   "execution_count": 37,
   "metadata": {},
   "outputs": [
    {
     "name": "stdout",
     "output_type": "stream",
     "text": [
      "5\n",
      "-1\n"
     ]
    }
   ],
   "source": [
    "a = \"pythonJHkj\"\n",
    "print a.find('n')\n",
    "print a.find('Z')"
   ]
  },
  {
   "cell_type": "code",
   "execution_count": 40,
   "metadata": {},
   "outputs": [
    {
     "name": "stdout",
     "output_type": "stream",
     "text": [
      "5\n"
     ]
    },
    {
     "ename": "ValueError",
     "evalue": "substring not found",
     "output_type": "error",
     "traceback": [
      "\u001b[1;31m---------------------------------------------------------------------------\u001b[0m",
      "\u001b[1;31mValueError\u001b[0m                                Traceback (most recent call last)",
      "\u001b[1;32m<ipython-input-40-42d5f2e6ffc9>\u001b[0m in \u001b[0;36m<module>\u001b[1;34m()\u001b[0m\n\u001b[0;32m      1\u001b[0m \u001b[0ma\u001b[0m \u001b[1;33m=\u001b[0m \u001b[1;34m\"pythonJHkj\"\u001b[0m\u001b[1;33m\u001b[0m\u001b[0m\n\u001b[0;32m      2\u001b[0m \u001b[1;32mprint\u001b[0m \u001b[0ma\u001b[0m\u001b[1;33m.\u001b[0m\u001b[0mindex\u001b[0m\u001b[1;33m(\u001b[0m\u001b[1;34m'n'\u001b[0m\u001b[1;33m)\u001b[0m\u001b[1;33m\u001b[0m\u001b[0m\n\u001b[1;32m----> 3\u001b[1;33m \u001b[1;32mprint\u001b[0m \u001b[0ma\u001b[0m\u001b[1;33m.\u001b[0m\u001b[0mindex\u001b[0m\u001b[1;33m(\u001b[0m\u001b[1;34m'Z'\u001b[0m\u001b[1;33m)\u001b[0m\u001b[1;33m\u001b[0m\u001b[0m\n\u001b[0m",
      "\u001b[1;31mValueError\u001b[0m: substring not found"
     ]
    }
   ],
   "source": [
    "a = \"pythonJHkj\"\n",
    "print a.index('n')\n",
    "print a.index('Z')"
   ]
  },
  {
   "cell_type": "code",
   "execution_count": 42,
   "metadata": {},
   "outputs": [
    {
     "data": {
      "text/plain": [
       "['python', 'hdf', 'djfj', 'jdfh', 'JHkj']"
      ]
     },
     "execution_count": 42,
     "metadata": {},
     "output_type": "execute_result"
    }
   ],
   "source": [
    "a = \"python hdf djfj jdfh JHkj\"\n",
    "a.split()"
   ]
  },
  {
   "cell_type": "code",
   "execution_count": 46,
   "metadata": {},
   "outputs": [
    {
     "name": "stdout",
     "output_type": "stream",
     "text": [
      "python anjan hdf anjan djfj anjan jdfh anjan JHkj\n"
     ]
    }
   ],
   "source": [
    "a = ['python', 'hdf', 'djfj', 'jdfh', 'JHkj']\n",
    "a = \" anjan \".join(a)\n",
    "print a"
   ]
  },
  {
   "cell_type": "code",
   "execution_count": 47,
   "metadata": {},
   "outputs": [
    {
     "data": {
      "text/plain": [
       "True"
      ]
     },
     "execution_count": 47,
     "metadata": {},
     "output_type": "execute_result"
    }
   ],
   "source": [
    "a = \"1234\"\n",
    "a.isdigit()"
   ]
  },
  {
   "cell_type": "code",
   "execution_count": 51,
   "metadata": {},
   "outputs": [
    {
     "name": "stdout",
     "output_type": "stream",
     "text": [
      "False\n",
      "True\n"
     ]
    }
   ],
   "source": [
    "a = \"1234\"\n",
    "print a.isalpha()\n",
    "a = \"jjhgdhJGJH\"\n",
    "print a.isalpha()"
   ]
  },
  {
   "cell_type": "code",
   "execution_count": 54,
   "metadata": {},
   "outputs": [
    {
     "name": "stdout",
     "output_type": "stream",
     "text": [
      "True\n",
      "True\n",
      "True\n",
      "False\n"
     ]
    }
   ],
   "source": [
    "a = \"1234\"\n",
    "print a.isalnum()\n",
    "a = \"dfjfKJD\"\n",
    "print a.isalnum()\n",
    "a = \"dfj64\"\n",
    "print a.isalnum()\n",
    "a = \"fjkf \"\n",
    "print a.isalnum()"
   ]
  },
  {
   "cell_type": "code",
   "execution_count": 58,
   "metadata": {},
   "outputs": [
    {
     "name": "stdout",
     "output_type": "stream",
     "text": [
      "True\n"
     ]
    }
   ],
   "source": [
    "a = \"Akjfjk Smdn\"\n",
    "print a.istitle()"
   ]
  },
  {
   "cell_type": "code",
   "execution_count": 1,
   "metadata": {},
   "outputs": [
    {
     "name": "stdout",
     "output_type": "stream",
     "text": [
      "True\n"
     ]
    }
   ],
   "source": [
    "a = \"     \"\n",
    "print a.isspace()"
   ]
  },
  {
   "cell_type": "markdown",
   "metadata": {},
   "source": [
    "### List datatype"
   ]
  },
  {
   "cell_type": "code",
   "execution_count": 2,
   "metadata": {},
   "outputs": [
    {
     "name": "stdout",
     "output_type": "stream",
     "text": [
      "<type 'list'>\n"
     ]
    }
   ],
   "source": [
    "# ====>>> collection of elements with in the square brackets  [ ]\n",
    "# ====>>> we can store different datatype elemnts --->> hetro genious datatype\n",
    "var = [12, 45.34 , 6+5j ,True]\n",
    "print type(var)"
   ]
  },
  {
   "cell_type": "code",
   "execution_count": 4,
   "metadata": {},
   "outputs": [
    {
     "name": "stdout",
     "output_type": "stream",
     "text": [
      "12\n",
      "89\n",
      "34\n",
      "90\n",
      "90\n",
      "34\n",
      "89\n",
      "12\n"
     ]
    }
   ],
   "source": [
    "# list indexing \n",
    "'''\n",
    "===>> positive indexing    0 to len-1\n",
    "\n",
    "\n",
    "\n",
    "===>> Negative indexing   -1 to -len\n",
    "'''\n",
    "var = [12,89,34,90]\n",
    "print var[0]#12\n",
    "print var[1]#89\n",
    "print var[2]#34\n",
    "print var[3]#90\n",
    "print var[-1]#90\n",
    "print var[-2]#34\n",
    "print var[-3]#89\n",
    "print var[-4]#12"
   ]
  },
  {
   "cell_type": "code",
   "execution_count": 7,
   "metadata": {},
   "outputs": [
    {
     "name": "stdout",
     "output_type": "stream",
     "text": [
      "[12, 45, 23, 90, 12, 56, 34]\n",
      "[23, 90, 12]\n",
      "[90, 12, 56, 34]\n"
     ]
    }
   ],
   "source": [
    "# list slicing \n",
    "var = [12,45,23,90,12,56,34]\n",
    "print var[:]\n",
    "print var[2:5]# [23,90,12]\n",
    "print var[3:]"
   ]
  },
  {
   "cell_type": "code",
   "execution_count": 9,
   "metadata": {},
   "outputs": [
    {
     "name": "stdout",
     "output_type": "stream",
     "text": [
      "[90, 7, 4, 2, 7, 1, 6, 3, 7, 5]\n",
      "[4, 7, 6, 7]\n"
     ]
    }
   ],
   "source": [
    "# list dicing \n",
    "var =[90,7,4,2,7,1,6,3,7,5]\n",
    "print var[::]\n",
    "print var[2:10:2]#[4,7,6,7]"
   ]
  },
  {
   "cell_type": "code",
   "execution_count": 11,
   "metadata": {},
   "outputs": [
    {
     "name": "stdout",
     "output_type": "stream",
     "text": [
      "[12, 45, 12]\n",
      "[12, 45, 34]\n"
     ]
    }
   ],
   "source": [
    "# list is mutable \n",
    "var = [12,45,12]\n",
    "\n",
    "print  var\n",
    "var[2]=34\n",
    "print var"
   ]
  },
  {
   "cell_type": "code",
   "execution_count": 14,
   "metadata": {},
   "outputs": [
    {
     "name": "stdout",
     "output_type": "stream",
     "text": [
      "[1, 2, 3, 4, 5, 6]\n",
      "[1, 2, 3, 1, 2, 3, 1, 2, 3]\n",
      "3\n",
      "6\n",
      "1\n",
      "3\n"
     ]
    }
   ],
   "source": [
    "a=[1,2,3]\n",
    "b =[4,5,6]\n",
    "print a+b\n",
    "print a*3\n",
    "print len(a)\n",
    "print sum(a)\n",
    "print min(a)\n",
    "print max(a)"
   ]
  },
  {
   "cell_type": "code",
   "execution_count": 16,
   "metadata": {},
   "outputs": [
    {
     "name": "stdout",
     "output_type": "stream",
     "text": [
      "True\n",
      "True\n",
      "False\n",
      "False\n",
      "False\n",
      "False\n"
     ]
    }
   ],
   "source": [
    "a =[1,2,3]\n",
    "b =[4,5,6]\n",
    "print a <b\n",
    "print a.__lt__(b)\n",
    "print a > b\n",
    "print a.__gt__(b)\n",
    "print a == b\n",
    "print a.__eq__(b)"
   ]
  },
  {
   "cell_type": "code",
   "execution_count": 19,
   "metadata": {},
   "outputs": [
    {
     "name": "stdout",
     "output_type": "stream",
     "text": [
      "['__add__', '__class__', '__contains__', '__delattr__', '__delitem__', '__delslice__', '__doc__', '__eq__', '__format__', '__ge__', '__getattribute__', '__getitem__', '__getslice__', '__gt__', '__hash__', '__iadd__', '__imul__', '__init__', '__iter__', '__le__', '__len__', '__lt__', '__mul__', '__ne__', '__new__', '__reduce__', '__reduce_ex__', '__repr__', '__reversed__', '__rmul__', '__setattr__', '__setitem__', '__setslice__', '__sizeof__', '__str__', '__subclasshook__', 'append', 'count', 'extend', 'index', 'insert', 'pop', 'remove', 'reverse', 'sort']\n"
     ]
    }
   ],
   "source": [
    "print dir(list)"
   ]
  },
  {
   "cell_type": "code",
   "execution_count": 21,
   "metadata": {},
   "outputs": [
    {
     "name": "stdout",
     "output_type": "stream",
     "text": [
      "[1, 2, 3, 100]\n"
     ]
    }
   ],
   "source": [
    "a = [1,2,3]\n",
    "a.append(100)\n",
    "print a"
   ]
  },
  {
   "cell_type": "code",
   "execution_count": 23,
   "metadata": {},
   "outputs": [
    {
     "name": "stdout",
     "output_type": "stream",
     "text": [
      "3\n"
     ]
    }
   ],
   "source": [
    "a =[4,5,6,5,4,6,1,2,6]\n",
    "print a.count(6)"
   ]
  },
  {
   "cell_type": "code",
   "execution_count": 24,
   "metadata": {},
   "outputs": [
    {
     "name": "stdout",
     "output_type": "stream",
     "text": [
      "[1, 2, 3]\n",
      "[1, 2, 3, 4, 5, 6]\n"
     ]
    }
   ],
   "source": [
    "a = [1,2,3]\n",
    "b = [4,5,6]\n",
    "print a\n",
    "a.extend(b)\n",
    "print a"
   ]
  },
  {
   "cell_type": "code",
   "execution_count": 27,
   "metadata": {},
   "outputs": [
    {
     "name": "stdout",
     "output_type": "stream",
     "text": [
      "2\n"
     ]
    },
    {
     "ename": "ValueError",
     "evalue": "100 is not in list",
     "output_type": "error",
     "traceback": [
      "\u001b[1;31m---------------------------------------------------------------------------\u001b[0m",
      "\u001b[1;31mValueError\u001b[0m                                Traceback (most recent call last)",
      "\u001b[1;32m<ipython-input-27-9c4096bb0218>\u001b[0m in \u001b[0;36m<module>\u001b[1;34m()\u001b[0m\n\u001b[0;32m      1\u001b[0m \u001b[0ma\u001b[0m \u001b[1;33m=\u001b[0m \u001b[1;33m[\u001b[0m\u001b[1;36m10\u001b[0m\u001b[1;33m,\u001b[0m\u001b[1;36m34\u001b[0m\u001b[1;33m,\u001b[0m\u001b[1;36m12\u001b[0m\u001b[1;33m,\u001b[0m\u001b[1;36m90\u001b[0m\u001b[1;33m,\u001b[0m\u001b[1;36m34\u001b[0m\u001b[1;33m]\u001b[0m\u001b[1;33m\u001b[0m\u001b[0m\n\u001b[0;32m      2\u001b[0m \u001b[1;32mprint\u001b[0m \u001b[0ma\u001b[0m\u001b[1;33m.\u001b[0m\u001b[0mindex\u001b[0m\u001b[1;33m(\u001b[0m\u001b[1;36m12\u001b[0m\u001b[1;33m)\u001b[0m\u001b[1;33m\u001b[0m\u001b[0m\n\u001b[1;32m----> 3\u001b[1;33m \u001b[1;32mprint\u001b[0m \u001b[0ma\u001b[0m\u001b[1;33m.\u001b[0m\u001b[0mindex\u001b[0m\u001b[1;33m(\u001b[0m\u001b[1;36m100\u001b[0m\u001b[1;33m)\u001b[0m\u001b[1;33m\u001b[0m\u001b[0m\n\u001b[0m",
      "\u001b[1;31mValueError\u001b[0m: 100 is not in list"
     ]
    }
   ],
   "source": [
    "a = [10,34,12,90,34]\n",
    "print a.index(12)\n",
    "print a.index(100)"
   ]
  },
  {
   "cell_type": "code",
   "execution_count": 30,
   "metadata": {},
   "outputs": [
    {
     "name": "stdout",
     "output_type": "stream",
     "text": [
      "[10, 45, 100, 90]\n"
     ]
    }
   ],
   "source": [
    "a = [10,45,90]\n",
    "a.insert(2,100)\n",
    "print a"
   ]
  },
  {
   "cell_type": "code",
   "execution_count": 32,
   "metadata": {},
   "outputs": [
    {
     "name": "stdout",
     "output_type": "stream",
     "text": [
      "90\n",
      "[10, 45]\n"
     ]
    }
   ],
   "source": [
    "a = [10,45,90]\n",
    "print a.pop()\n",
    "print a"
   ]
  },
  {
   "cell_type": "code",
   "execution_count": 34,
   "metadata": {},
   "outputs": [
    {
     "name": "stdout",
     "output_type": "stream",
     "text": [
      "45\n",
      "[10, 90]\n"
     ]
    }
   ],
   "source": [
    "a = [10,45,90]\n",
    "print a.pop(1)\n",
    "print a"
   ]
  },
  {
   "cell_type": "code",
   "execution_count": 36,
   "metadata": {},
   "outputs": [
    {
     "name": "stdout",
     "output_type": "stream",
     "text": [
      "[10, 90]\n"
     ]
    },
    {
     "ename": "ValueError",
     "evalue": "list.remove(x): x not in list",
     "output_type": "error",
     "traceback": [
      "\u001b[1;31m---------------------------------------------------------------------------\u001b[0m",
      "\u001b[1;31mValueError\u001b[0m                                Traceback (most recent call last)",
      "\u001b[1;32m<ipython-input-36-a6f4052b1491>\u001b[0m in \u001b[0;36m<module>\u001b[1;34m()\u001b[0m\n\u001b[0;32m      2\u001b[0m \u001b[0ma\u001b[0m\u001b[1;33m.\u001b[0m\u001b[0mremove\u001b[0m\u001b[1;33m(\u001b[0m\u001b[1;36m45\u001b[0m\u001b[1;33m)\u001b[0m\u001b[1;33m\u001b[0m\u001b[0m\n\u001b[0;32m      3\u001b[0m \u001b[1;32mprint\u001b[0m \u001b[0ma\u001b[0m\u001b[1;33m\u001b[0m\u001b[0m\n\u001b[1;32m----> 4\u001b[1;33m \u001b[0ma\u001b[0m\u001b[1;33m.\u001b[0m\u001b[0mremove\u001b[0m\u001b[1;33m(\u001b[0m\u001b[1;36m100\u001b[0m\u001b[1;33m)\u001b[0m\u001b[1;33m\u001b[0m\u001b[0m\n\u001b[0m",
      "\u001b[1;31mValueError\u001b[0m: list.remove(x): x not in list"
     ]
    }
   ],
   "source": [
    "a = [10,45,90]\n",
    "a.remove(45)\n",
    "print a\n",
    "a.remove(100)"
   ]
  },
  {
   "cell_type": "code",
   "execution_count": 37,
   "metadata": {},
   "outputs": [
    {
     "name": "stdout",
     "output_type": "stream",
     "text": [
      "[1, 2, 90, 34, 23, 0, -34]\n",
      "[-34, 0, 23, 34, 90, 2, 1]\n"
     ]
    }
   ],
   "source": [
    "a =[1,2,90,34,23,0,-34]\n",
    "print a\n",
    "a.reverse()\n",
    "print a"
   ]
  },
  {
   "cell_type": "code",
   "execution_count": 39,
   "metadata": {},
   "outputs": [
    {
     "name": "stdout",
     "output_type": "stream",
     "text": [
      "[1, 2, 90, 34, 23, 0, -34]\n",
      "[-34, 0, 1, 2, 23, 34, 90]\n"
     ]
    }
   ],
   "source": [
    "a =[1,2,90,34,23,0,-34]\n",
    "print a\n",
    "a.sort()\n",
    "print a"
   ]
  },
  {
   "cell_type": "code",
   "execution_count": 40,
   "metadata": {},
   "outputs": [],
   "source": [
    "# tuple ===>>> ()\n",
    "# tuple indexing\n",
    "# tuple slicing\n",
    "# tuple dicing \n",
    "# tuple is mutable / immutable ?\n",
    "# chech special methods \n",
    "# check the manipulion methods"
   ]
  },
  {
   "cell_type": "code",
   "execution_count": 1,
   "metadata": {},
   "outputs": [],
   "source": [
    "######LOOOPS #####\n",
    "# wap list sorting \n",
    "# waf list reverse \n",
    "# waf sum of elements from list \n"
   ]
  },
  {
   "cell_type": "code",
   "execution_count": 4,
   "metadata": {},
   "outputs": [
    {
     "name": "stdout",
     "output_type": "stream",
     "text": [
      "set([2, 1.8, 90, -3])\n",
      "<type 'set'>\n"
     ]
    }
   ],
   "source": [
    "# set datatype\n",
    "'''\n",
    "===>>> Collection of elements inside of { }\n",
    "===>>> unorder daatatype\n",
    "===>>> duplicate elements can removes \n",
    "'''\n",
    "var = {1.8,2,90,-3,1.8}\n",
    "print var\n",
    "print type(var)"
   ]
  },
  {
   "cell_type": "code",
   "execution_count": 5,
   "metadata": {},
   "outputs": [
    {
     "ename": "TypeError",
     "evalue": "'set' object does not support indexing",
     "output_type": "error",
     "traceback": [
      "\u001b[1;31m---------------------------------------------------------------------------\u001b[0m",
      "\u001b[1;31mTypeError\u001b[0m                                 Traceback (most recent call last)",
      "\u001b[1;32m<ipython-input-5-db4c4e5f0112>\u001b[0m in \u001b[0;36m<module>\u001b[1;34m()\u001b[0m\n\u001b[0;32m      1\u001b[0m \u001b[0mvar\u001b[0m \u001b[1;33m=\u001b[0m \u001b[1;33m{\u001b[0m\u001b[1;36m1\u001b[0m\u001b[1;33m,\u001b[0m\u001b[1;36m5\u001b[0m\u001b[1;33m,\u001b[0m\u001b[1;36m3\u001b[0m\u001b[1;33m}\u001b[0m\u001b[1;33m\u001b[0m\u001b[0m\n\u001b[1;32m----> 2\u001b[1;33m \u001b[0mvar\u001b[0m\u001b[1;33m[\u001b[0m\u001b[1;36m0\u001b[0m\u001b[1;33m]\u001b[0m\u001b[1;33m\u001b[0m\u001b[0m\n\u001b[0m",
      "\u001b[1;31mTypeError\u001b[0m: 'set' object does not support indexing"
     ]
    }
   ],
   "source": [
    "var = {1,5,3}\n",
    "var[0]"
   ]
  },
  {
   "cell_type": "code",
   "execution_count": 6,
   "metadata": {},
   "outputs": [
    {
     "name": "stdout",
     "output_type": "stream",
     "text": [
      "set([True, (7+4j), 12, None, 90.23])\n"
     ]
    }
   ],
   "source": [
    "var = {12,90.23,7+4j ,True,None}\n",
    "print var"
   ]
  },
  {
   "cell_type": "code",
   "execution_count": 8,
   "metadata": {},
   "outputs": [
    {
     "name": "stdout",
     "output_type": "stream",
     "text": [
      "set(['soc', (1, 2, 4)])\n"
     ]
    }
   ],
   "source": [
    "var = {\"soc\",(1,2,4)}\n",
    "print var"
   ]
  },
  {
   "cell_type": "code",
   "execution_count": 9,
   "metadata": {},
   "outputs": [
    {
     "ename": "TypeError",
     "evalue": "unhashable type: 'list'",
     "output_type": "error",
     "traceback": [
      "\u001b[1;31m---------------------------------------------------------------------------\u001b[0m",
      "\u001b[1;31mTypeError\u001b[0m                                 Traceback (most recent call last)",
      "\u001b[1;32m<ipython-input-9-769addbb3f22>\u001b[0m in \u001b[0;36m<module>\u001b[1;34m()\u001b[0m\n\u001b[1;32m----> 1\u001b[1;33m \u001b[0mvar\u001b[0m \u001b[1;33m=\u001b[0m \u001b[1;33m{\u001b[0m\u001b[1;33m[\u001b[0m\u001b[1;36m1\u001b[0m\u001b[1;33m,\u001b[0m\u001b[1;36m2\u001b[0m\u001b[1;33m,\u001b[0m\u001b[1;36m3\u001b[0m\u001b[1;33m]\u001b[0m\u001b[1;33m,\u001b[0m\u001b[1;36m8\u001b[0m\u001b[1;33m}\u001b[0m\u001b[1;33m\u001b[0m\u001b[0m\n\u001b[0m",
      "\u001b[1;31mTypeError\u001b[0m: unhashable type: 'list'"
     ]
    }
   ],
   "source": [
    "var = {[1,2,3],8}"
   ]
  },
  {
   "cell_type": "code",
   "execution_count": 13,
   "metadata": {},
   "outputs": [
    {
     "ename": "TypeError",
     "evalue": "unhashable type: 'set'",
     "output_type": "error",
     "traceback": [
      "\u001b[1;31m---------------------------------------------------------------------------\u001b[0m",
      "\u001b[1;31mTypeError\u001b[0m                                 Traceback (most recent call last)",
      "\u001b[1;32m<ipython-input-13-3ccfccbd995b>\u001b[0m in \u001b[0;36m<module>\u001b[1;34m()\u001b[0m\n\u001b[1;32m----> 1\u001b[1;33m \u001b[0mvar\u001b[0m \u001b[1;33m=\u001b[0m \u001b[1;33m{\u001b[0m\u001b[1;33m{\u001b[0m\u001b[1;36m1\u001b[0m\u001b[1;33m,\u001b[0m\u001b[1;36m2\u001b[0m\u001b[1;33m,\u001b[0m\u001b[1;36m3\u001b[0m\u001b[1;33m}\u001b[0m\u001b[1;33m,\u001b[0m\u001b[1;36m4\u001b[0m\u001b[1;33m}\u001b[0m\u001b[1;33m\u001b[0m\u001b[0m\n\u001b[0m",
      "\u001b[1;31mTypeError\u001b[0m: unhashable type: 'set'"
     ]
    }
   ],
   "source": [
    "var = {{1,2,3},4}"
   ]
  },
  {
   "cell_type": "code",
   "execution_count": 14,
   "metadata": {},
   "outputs": [
    {
     "ename": "TypeError",
     "evalue": "unhashable type: 'dict'",
     "output_type": "error",
     "traceback": [
      "\u001b[1;31m---------------------------------------------------------------------------\u001b[0m",
      "\u001b[1;31mTypeError\u001b[0m                                 Traceback (most recent call last)",
      "\u001b[1;32m<ipython-input-14-bf50f16e050b>\u001b[0m in \u001b[0;36m<module>\u001b[1;34m()\u001b[0m\n\u001b[1;32m----> 1\u001b[1;33m \u001b[0mvar\u001b[0m \u001b[1;33m=\u001b[0m\u001b[1;33m{\u001b[0m\u001b[1;33m{\u001b[0m\u001b[1;36m4\u001b[0m\u001b[1;33m:\u001b[0m\u001b[1;34m\"f\"\u001b[0m\u001b[1;33m}\u001b[0m\u001b[1;33m}\u001b[0m\u001b[1;33m\u001b[0m\u001b[0m\n\u001b[0m",
      "\u001b[1;31mTypeError\u001b[0m: unhashable type: 'dict'"
     ]
    }
   ],
   "source": [
    "var ={{4:\"f\"}}"
   ]
  },
  {
   "cell_type": "code",
   "execution_count": 44,
   "metadata": {},
   "outputs": [
    {
     "name": "stdout",
     "output_type": "stream",
     "text": [
      "set([1, 2, 3, 4, 5, 6, 7])\n",
      "set([1, 2, 3, 4])\n",
      "set([1, 2, 3, 4, 5, 6, 7])\n"
     ]
    }
   ],
   "source": [
    "a ={1,2,3,4}\n",
    "b = {4,5,6,7}\n",
    "print a.union(b)\n",
    "print a\n",
    "a.update(b)\n",
    "print a"
   ]
  },
  {
   "cell_type": "code",
   "execution_count": 18,
   "metadata": {},
   "outputs": [
    {
     "name": "stdout",
     "output_type": "stream",
     "text": [
      "set([4])\n"
     ]
    }
   ],
   "source": [
    "a ={1,2,3,4}\n",
    "b = {4,5,6,7}\n",
    "print a.intersection(b)"
   ]
  },
  {
   "cell_type": "code",
   "execution_count": 20,
   "metadata": {},
   "outputs": [
    {
     "name": "stdout",
     "output_type": "stream",
     "text": [
      "set([1, 2, 3])\n"
     ]
    }
   ],
   "source": [
    "a ={1,2,3,4}\n",
    "b = {4,5,6,7}\n",
    "print a.difference(b)"
   ]
  },
  {
   "cell_type": "code",
   "execution_count": 22,
   "metadata": {},
   "outputs": [
    {
     "name": "stdout",
     "output_type": "stream",
     "text": [
      "set([1, 2, 3, 5, 6, 7])\n"
     ]
    }
   ],
   "source": [
    "a ={1,2,3,4}\n",
    "b = {4,5,6,7}\n",
    "print a.symmetric_difference(b)"
   ]
  },
  {
   "cell_type": "code",
   "execution_count": 24,
   "metadata": {},
   "outputs": [
    {
     "name": "stdout",
     "output_type": "stream",
     "text": [
      "set([1, 2, 4])\n",
      "set([1, 2, 4, 100])\n"
     ]
    }
   ],
   "source": [
    "a ={1,2,4}\n",
    "print a\n",
    "a.add(100)\n",
    "print a"
   ]
  },
  {
   "cell_type": "code",
   "execution_count": 26,
   "metadata": {},
   "outputs": [
    {
     "name": "stdout",
     "output_type": "stream",
     "text": [
      "set([1, 2, 3, 4])\n",
      "set([1, 2, 3, 4, 5, 6, 7])\n"
     ]
    }
   ],
   "source": [
    "a ={1,2,3,4}\n",
    "b = {4,5,6,7}\n",
    "print a\n",
    "a.update(b)\n",
    "print a"
   ]
  },
  {
   "cell_type": "code",
   "execution_count": 28,
   "metadata": {},
   "outputs": [
    {
     "name": "stdout",
     "output_type": "stream",
     "text": [
      "set([1, 2, 3])\n",
      "set([])\n"
     ]
    }
   ],
   "source": [
    "a = {1,2,3}\n",
    "print a\n",
    "a.clear()\n",
    "print a"
   ]
  },
  {
   "cell_type": "code",
   "execution_count": 30,
   "metadata": {},
   "outputs": [
    {
     "name": "stdout",
     "output_type": "stream",
     "text": [
      "set([1, 2, 3, 5])\n",
      "set([1, 2, 3, 5])\n"
     ]
    }
   ],
   "source": [
    "a = {1,5,2,3}\n",
    "b = a.copy()\n",
    "print a\n",
    "print b"
   ]
  },
  {
   "cell_type": "code",
   "execution_count": 32,
   "metadata": {},
   "outputs": [
    {
     "name": "stdout",
     "output_type": "stream",
     "text": [
      "set([2, 4, 90, 6, 7])\n",
      "2\n",
      "set([4, 90, 6, 7])\n"
     ]
    }
   ],
   "source": [
    "a={2,6,7,4,90}\n",
    "print a\n",
    "print a.pop()\n",
    "print a"
   ]
  },
  {
   "cell_type": "code",
   "execution_count": 34,
   "metadata": {},
   "outputs": [
    {
     "name": "stdout",
     "output_type": "stream",
     "text": [
      "set([2, 4, 90, 6, 7])\n",
      "set([2, 4, 90, 6])\n"
     ]
    },
    {
     "ename": "KeyError",
     "evalue": "100",
     "output_type": "error",
     "traceback": [
      "\u001b[1;31m---------------------------------------------------------------------------\u001b[0m",
      "\u001b[1;31mKeyError\u001b[0m                                  Traceback (most recent call last)",
      "\u001b[1;32m<ipython-input-34-13cfa596ff6d>\u001b[0m in \u001b[0;36m<module>\u001b[1;34m()\u001b[0m\n\u001b[0;32m      3\u001b[0m \u001b[0ma\u001b[0m\u001b[1;33m.\u001b[0m\u001b[0mremove\u001b[0m\u001b[1;33m(\u001b[0m\u001b[1;36m7\u001b[0m\u001b[1;33m)\u001b[0m\u001b[1;33m\u001b[0m\u001b[0m\n\u001b[0;32m      4\u001b[0m \u001b[1;32mprint\u001b[0m \u001b[0ma\u001b[0m\u001b[1;33m\u001b[0m\u001b[0m\n\u001b[1;32m----> 5\u001b[1;33m \u001b[0ma\u001b[0m\u001b[1;33m.\u001b[0m\u001b[0mremove\u001b[0m\u001b[1;33m(\u001b[0m\u001b[1;36m100\u001b[0m\u001b[1;33m)\u001b[0m\u001b[1;33m\u001b[0m\u001b[0m\n\u001b[0m",
      "\u001b[1;31mKeyError\u001b[0m: 100"
     ]
    }
   ],
   "source": [
    "a={2,6,7,4,90}\n",
    "print a\n",
    "a.remove(7)\n",
    "print a\n",
    "a.remove(100)"
   ]
  },
  {
   "cell_type": "code",
   "execution_count": 36,
   "metadata": {},
   "outputs": [
    {
     "name": "stdout",
     "output_type": "stream",
     "text": [
      "set([34, 12, 45, 6])\n",
      "set([34, 45, 6])\n",
      "set([34, 45, 6])\n"
     ]
    }
   ],
   "source": [
    "a ={12,45,34,6}\n",
    "print a\n",
    "a.discard(12)\n",
    "print a\n",
    "a.discard(100)\n",
    "print a"
   ]
  },
  {
   "cell_type": "code",
   "execution_count": 38,
   "metadata": {},
   "outputs": [
    {
     "name": "stdout",
     "output_type": "stream",
     "text": [
      "True\n",
      "True\n",
      "False\n"
     ]
    }
   ],
   "source": [
    "a= {1,2}\n",
    "b = {1,2,3,4}\n",
    "print a.issubset(b)\n",
    "print b.issuperset(a)\n",
    "print a.isdisjoint(b)"
   ]
  },
  {
   "cell_type": "code",
   "execution_count": 41,
   "metadata": {},
   "outputs": [
    {
     "name": "stdout",
     "output_type": "stream",
     "text": [
      "set([1, 2])\n",
      "set([1, 2])\n",
      "set([1, 2])\n",
      "set([1, 2, 3, 4])\n",
      "set([1, 2])\n"
     ]
    }
   ],
   "source": [
    "a = {1,2,3,4}\n",
    "b ={1,2,5,6}\n",
    "print a.intersection(b)\n",
    "print a & b\n",
    "print a.__and__(b)\n",
    "print a\n",
    "a.intersection_update(b)\n",
    "print a"
   ]
  },
  {
   "cell_type": "code",
   "execution_count": 43,
   "metadata": {},
   "outputs": [
    {
     "name": "stdout",
     "output_type": "stream",
     "text": [
      "set([3, 4])\n",
      "set([3, 4])\n",
      "set([3, 4])\n",
      "set([1, 2, 3, 4])\n",
      "set([3, 4])\n"
     ]
    }
   ],
   "source": [
    "a = {1,2,3,4}\n",
    "b ={1,2,5,6}\n",
    "print a.difference(b)\n",
    "print a - b\n",
    "print a.__sub__(b)\n",
    "print a\n",
    "a.difference_update(b)\n",
    "print a"
   ]
  },
  {
   "cell_type": "code",
   "execution_count": 1,
   "metadata": {},
   "outputs": [
    {
     "name": "stdout",
     "output_type": "stream",
     "text": [
      "set([3, 4, 5, 6])\n",
      "set([3, 4, 5, 6])\n",
      "set([3, 4, 5, 6])\n",
      "set([1, 2, 3, 4])\n",
      "set([3, 4, 5, 6])\n"
     ]
    }
   ],
   "source": [
    "a = {1,2,3,4}\n",
    "b ={1,2,5,6}\n",
    "print a.symmetric_difference(b)\n",
    "print a ^ b\n",
    "print a.__xor__(b)\n",
    "print a\n",
    "a.symmetric_difference_update(b)\n",
    "print a"
   ]
  },
  {
   "cell_type": "code",
   "execution_count": 4,
   "metadata": {},
   "outputs": [
    {
     "name": "stdout",
     "output_type": "stream",
     "text": [
      "{34: ' python', 90: 'Java', 89.34: [12, 34]}\n",
      "<type 'dict'>\n"
     ]
    }
   ],
   "source": [
    "# dict datatype\n",
    "'''\n",
    "===>> collection of items with in  { }   ,  item --->>  key :  values\n",
    "\n",
    "'''\n",
    "var = {34 : \" python\"  , 90 : \"Java\"  , 89.34 : [12,34]}\n",
    "print var\n",
    "print type(var)"
   ]
  },
  {
   "cell_type": "code",
   "execution_count": 7,
   "metadata": {},
   "outputs": [
    {
     "name": "stdout",
     "output_type": "stream",
     "text": [
      "{100: 'C++', 90: 'java', 12: ' C'}\n"
     ]
    },
    {
     "ename": "KeyError",
     "evalue": "0",
     "output_type": "error",
     "traceback": [
      "\u001b[1;31m---------------------------------------------------------------------------\u001b[0m",
      "\u001b[1;31mKeyError\u001b[0m                                  Traceback (most recent call last)",
      "\u001b[1;32m<ipython-input-7-1b3f7b29ca02>\u001b[0m in \u001b[0;36m<module>\u001b[1;34m()\u001b[0m\n\u001b[0;32m      5\u001b[0m \u001b[0mvar\u001b[0m \u001b[1;33m=\u001b[0m \u001b[1;33m{\u001b[0m \u001b[1;36m12\u001b[0m \u001b[1;33m:\u001b[0m \u001b[1;34m\"python \"\u001b[0m\u001b[1;33m,\u001b[0m \u001b[1;36m90\u001b[0m \u001b[1;33m:\u001b[0m \u001b[1;34m\"java\"\u001b[0m \u001b[1;33m,\u001b[0m \u001b[1;36m12\u001b[0m \u001b[1;33m:\u001b[0m \u001b[1;34m\" C\"\u001b[0m \u001b[1;33m,\u001b[0m \u001b[1;36m100\u001b[0m \u001b[1;33m:\u001b[0m \u001b[1;34m\"C++\"\u001b[0m\u001b[1;33m}\u001b[0m\u001b[1;33m\u001b[0m\u001b[0m\n\u001b[0;32m      6\u001b[0m \u001b[1;32mprint\u001b[0m \u001b[0mvar\u001b[0m\u001b[1;33m\u001b[0m\u001b[0m\n\u001b[1;32m----> 7\u001b[1;33m \u001b[1;32mprint\u001b[0m \u001b[0mvar\u001b[0m\u001b[1;33m[\u001b[0m\u001b[1;36m0\u001b[0m\u001b[1;33m]\u001b[0m\u001b[1;33m\u001b[0m\u001b[0m\n\u001b[0m",
      "\u001b[1;31mKeyError\u001b[0m: 0"
     ]
    }
   ],
   "source": [
    "'''\n",
    "===>> its not supporting the duplicate keys items \n",
    "===>> which are unorder datatype ---->>> which was not supporting index\n",
    "'''\n",
    "var = { 12 : \"python \", 90 : \"java\" , 12 : \" C\" , 100 : \"C++\"}\n",
    "print var\n",
    "print var[0]"
   ]
  },
  {
   "cell_type": "code",
   "execution_count": 8,
   "metadata": {},
   "outputs": [
    {
     "name": "stdout",
     "output_type": "stream",
     "text": [
      "{100: 'C++', 90: 'java', 12: ' C'}\n",
      " C\n"
     ]
    }
   ],
   "source": [
    "# we can access the values by using keys ===>>> key indexing \n",
    "var = { 12 : \"python \", 90 : \"java\" , 12 : \" C\" , 100 : \"C++\"}\n",
    "print var\n",
    "print var[12]"
   ]
  },
  {
   "cell_type": "code",
   "execution_count": 19,
   "metadata": {},
   "outputs": [
    {
     "ename": "TypeError",
     "evalue": "unhashable type: 'dict'",
     "output_type": "error",
     "traceback": [
      "\u001b[1;31m---------------------------------------------------------------------------\u001b[0m",
      "\u001b[1;31mTypeError\u001b[0m                                 Traceback (most recent call last)",
      "\u001b[1;32m<ipython-input-19-75e69447c3c1>\u001b[0m in \u001b[0;36m<module>\u001b[1;34m()\u001b[0m\n\u001b[0;32m      1\u001b[0m \u001b[1;31m# we can use as a keys any datatypes except   list , set, dict\u001b[0m\u001b[1;33m\u001b[0m\u001b[1;33m\u001b[0m\u001b[0m\n\u001b[1;32m----> 2\u001b[1;33m \u001b[0mvar\u001b[0m \u001b[1;33m=\u001b[0m \u001b[1;33m{\u001b[0m\u001b[1;33m{\u001b[0m\u001b[1;36m1\u001b[0m\u001b[1;33m:\u001b[0m\u001b[1;36m2\u001b[0m\u001b[1;33m}\u001b[0m \u001b[1;33m:\u001b[0m \u001b[1;34m\"12\"\u001b[0m\u001b[1;33m}\u001b[0m\u001b[1;33m\u001b[0m\u001b[0m\n\u001b[0m\u001b[0;32m      3\u001b[0m \u001b[1;32mprint\u001b[0m \u001b[0mvar\u001b[0m\u001b[1;33m\u001b[0m\u001b[0m\n",
      "\u001b[1;31mTypeError\u001b[0m: unhashable type: 'dict'"
     ]
    }
   ],
   "source": [
    "# we can use as a keys any datatypes except   list , set, dict\n",
    "var = {{1:2} : \"12\"}\n",
    "print var"
   ]
  },
  {
   "cell_type": "code",
   "execution_count": 22,
   "metadata": {},
   "outputs": [
    {
     "name": "stdout",
     "output_type": "stream",
     "text": [
      "{100: 'C++', 90: 'java', 12: ' C'}\n",
      "dict_items([(100, 'C++'), (90, 'java'), (12, ' C')])\n",
      "dict_keys([100, 90, 12])\n",
      "dict_values(['C++', 'java', ' C'])\n"
     ]
    }
   ],
   "source": [
    "var = { 12 : \"python \", 90 : \"java\" , 12 : \" C\" , 100 : \"C++\"}\n",
    "print var\n",
    "print var.viewitems()\n",
    "print var.viewkeys()\n",
    "print var.viewvalues()"
   ]
  },
  {
   "cell_type": "code",
   "execution_count": 23,
   "metadata": {},
   "outputs": [
    {
     "name": "stdout",
     "output_type": "stream",
     "text": [
      "{100: 'C++', 90: 'java', 12: ' C'}\n",
      "[(100, 'C++'), (90, 'java'), (12, ' C')]\n",
      "[100, 90, 12]\n",
      "['C++', 'java', ' C']\n"
     ]
    }
   ],
   "source": [
    "var = { 12 : \"python \", 90 : \"java\" , 12 : \" C\" , 100 : \"C++\"}\n",
    "print var\n",
    "print var.items()\n",
    "print var.keys()\n",
    "print var.values()"
   ]
  },
  {
   "cell_type": "code",
   "execution_count": null,
   "metadata": {},
   "outputs": [],
   "source": []
  },
  {
   "cell_type": "code",
   "execution_count": 20,
   "metadata": {},
   "outputs": [
    {
     "name": "stdout",
     "output_type": "stream",
     "text": [
      "['__class__', '__cmp__', '__contains__', '__delattr__', '__delitem__', '__doc__', '__eq__', '__format__', '__ge__', '__getattribute__', '__getitem__', '__gt__', '__hash__', '__init__', '__iter__', '__le__', '__len__', '__lt__', '__ne__', '__new__', '__reduce__', '__reduce_ex__', '__repr__', '__setattr__', '__setitem__', '__sizeof__', '__str__', '__subclasshook__', 'clear', 'copy', 'fromkeys', 'get', 'has_key', 'items', 'iteritems', 'iterkeys', 'itervalues', 'keys', 'pop', 'popitem', 'setdefault', 'update', 'values', 'viewitems', 'viewkeys', 'viewvalues']\n"
     ]
    }
   ],
   "source": [
    "print dir(dict)"
   ]
  },
  {
   "cell_type": "code",
   "execution_count": 24,
   "metadata": {},
   "outputs": [
    {
     "name": "stdout",
     "output_type": "stream",
     "text": [
      "{100: 'C++', 90: 'java', 12: ' C'}\n",
      "{120: 'hello', 100: 'C++', 90: 'java', 12: ' C', 130: 'bye'}\n"
     ]
    }
   ],
   "source": [
    "var = { 12 : \"python \", 90 : \"java\" , 12 : \" C\" , 100 : \"C++\"}\n",
    "print var\n",
    "b  = {120:\"hello\" , 130 :\"bye\"}\n",
    "var.update(b)\n",
    "print var"
   ]
  },
  {
   "cell_type": "code",
   "execution_count": 25,
   "metadata": {},
   "outputs": [
    {
     "name": "stdout",
     "output_type": "stream",
     "text": [
      "java\n"
     ]
    }
   ],
   "source": [
    "var = { 12 : \"python \", 90 : \"java\" , 12 : \" C\" , 100 : \"C++\"}\n",
    "print var.get(90)\n"
   ]
  },
  {
   "cell_type": "code",
   "execution_count": 27,
   "metadata": {},
   "outputs": [
    {
     "name": "stdout",
     "output_type": "stream",
     "text": [
      "{100: 'C++', 90: 'java', 12: ' C'}\n",
      "java\n",
      "{100: 'C++', 12: ' C'}\n"
     ]
    }
   ],
   "source": [
    "var = { 12 : \"python \", 90 : \"java\" , 12 : \" C\" , 100 : \"C++\"}\n",
    "print var\n",
    "print var.pop(90)\n",
    "print var"
   ]
  },
  {
   "cell_type": "code",
   "execution_count": 29,
   "metadata": {},
   "outputs": [
    {
     "name": "stdout",
     "output_type": "stream",
     "text": [
      "{100: 'C++', 90: 'java', 12: ' C'}\n",
      "(100, 'C++')\n",
      "{90: 'java', 12: ' C'}\n"
     ]
    }
   ],
   "source": [
    "var = { 12 : \"python \", 90 : \"java\" , 12 : \" C\" , 100 : \"C++\"}\n",
    "print var\n",
    "print var.popitem()\n",
    "print var"
   ]
  },
  {
   "cell_type": "code",
   "execution_count": 32,
   "metadata": {},
   "outputs": [
    {
     "name": "stdout",
     "output_type": "stream",
     "text": [
      "{100: 'C++', 90: 'java', 12: ' C'}\n",
      "{}\n"
     ]
    }
   ],
   "source": [
    "var = { 12 : \"python \", 90 : \"java\" , 12 : \" C\" , 100 : \"C++\"}\n",
    "print var\n",
    "var.clear()\n",
    "print var"
   ]
  },
  {
   "cell_type": "code",
   "execution_count": 35,
   "metadata": {},
   "outputs": [
    {
     "name": "stdout",
     "output_type": "stream",
     "text": [
      "{100: 'C++', 90: 'java', 12: ' C'}\n",
      "{100: 'C++', 90: 'java', 12: ' C'}\n",
      "{12: ' C', 90: 'java', 100: 'C++'}\n",
      "{100: 'C++', 90: 'java', 12: ' C', 34: 456}\n"
     ]
    }
   ],
   "source": [
    "var = { 12 : \"python \", 90 : \"java\" , 12 : \" C\" , 100 : \"C++\"}\n",
    "print var\n",
    "b = var.copy()\n",
    "print var\n",
    "var [34] = 456\n",
    "print b\n",
    "print var"
   ]
  },
  {
   "cell_type": "code",
   "execution_count": 36,
   "metadata": {},
   "outputs": [
    {
     "name": "stdout",
     "output_type": "stream",
     "text": [
      "{100: 'C++', 90: 'java', 12: ' C'}\n",
      "{100: 'C++', 90: 'java', 12: ' C'}\n",
      "{100: 'C++', 90: 'java', 12: ' C', 34: 456}\n",
      "{100: 'C++', 90: 'java', 12: ' C', 34: 456}\n"
     ]
    }
   ],
   "source": [
    "var = { 12 : \"python \", 90 : \"java\" , 12 : \" C\" , 100 : \"C++\"}\n",
    "print var\n",
    "b = var\n",
    "print var\n",
    "var [34] = 456\n",
    "print b\n",
    "print var"
   ]
  }
 ],
 "metadata": {
  "kernelspec": {
   "display_name": "Python 2",
   "language": "python",
   "name": "python2"
  },
  "language_info": {
   "codemirror_mode": {
    "name": "ipython",
    "version": 2
   },
   "file_extension": ".py",
   "mimetype": "text/x-python",
   "name": "python",
   "nbconvert_exporter": "python",
   "pygments_lexer": "ipython2",
   "version": "2.7.16"
  }
 },
 "nbformat": 4,
 "nbformat_minor": 2
}
