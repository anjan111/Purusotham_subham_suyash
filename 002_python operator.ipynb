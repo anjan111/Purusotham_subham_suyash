{
 "cells": [
  {
   "cell_type": "markdown",
   "metadata": {},
   "source": [
    "### Operator\n",
    "\n",
    "===>>> A symbols whicha are used for to do the data processing ( operations) on  data (operands)\n",
    "\n",
    "### Based On 2 ways \n",
    "\n",
    "##### Based on Operands\n",
    "\n",
    "1. Unary Operator\n",
    "\n",
    "    ===>>  A single operator operating on the single data\n",
    "    \n",
    "    ===>> Unary plus , unary minus , logical not, bitwise not\n",
    "\n",
    "2. Binary operator\n",
    "\n",
    "   ===>>> A single operator operating on 2 operands \n",
    "   \n",
    "   "
   ]
  },
  {
   "cell_type": "code",
   "execution_count": 1,
   "metadata": {},
   "outputs": [
    {
     "name": "stdout",
     "output_type": "stream",
     "text": [
      "-10\n",
      "23\n",
      "False\n",
      "-35\n"
     ]
    }
   ],
   "source": [
    "# unary operations\n",
    "print -10\n",
    "print +23\n",
    "print not 45\n",
    "print ~34"
   ]
  },
  {
   "cell_type": "code",
   "execution_count": 2,
   "metadata": {},
   "outputs": [
    {
     "name": "stdout",
     "output_type": "stream",
     "text": [
      "112\n",
      "40\n",
      "112\n"
     ]
    }
   ],
   "source": [
    "# Binary operator\n",
    "\n",
    "print 45  + 67\n",
    "print 67 -27\n",
    "print 56 *2"
   ]
  },
  {
   "cell_type": "markdown",
   "metadata": {},
   "source": [
    "#### Based on operations \n",
    "\n",
    "===>> Arithmetic operator\n",
    "\n",
    "===>> relational operator\n",
    "\n",
    "===>> Assignment  operator\n",
    "\n",
    "===>> special operator\n",
    "\n",
    "====>> Logical operator\n",
    "\n",
    "====>> Bitwise operator"
   ]
  },
  {
   "cell_type": "code",
   "execution_count": 3,
   "metadata": {},
   "outputs": [
    {
     "name": "stdout",
     "output_type": "stream",
     "text": [
      "enter int a : 20\n",
      "enter int  b : 3\n",
      "23\n",
      "17\n",
      "60\n",
      "8000\n",
      "2\n"
     ]
    }
   ],
   "source": [
    "#arithmetic \n",
    "'''\n",
    "addition      +\n",
    "subtraction   -\n",
    "multiplication *\n",
    "exponant       **\n",
    "division         /\n",
    "floor division  //\n",
    "modulus         %\n",
    "\n",
    "'''\n",
    "a = input(\"enter int a : \")\n",
    "b = input(\"enter int  b : \")\n",
    "print a + b\n",
    "print a - b\n",
    "print a * b\n",
    "print a ** b\n",
    "print a %b"
   ]
  },
  {
   "cell_type": "code",
   "execution_count": 4,
   "metadata": {},
   "outputs": [
    {
     "name": "stdout",
     "output_type": "stream",
     "text": [
      "enter float a : 20.0\n",
      "enter float  b : 3.0\n",
      "23.0\n",
      "17.0\n",
      "60.0\n",
      "8000.0\n",
      "2.0\n"
     ]
    }
   ],
   "source": [
    "a = input(\"enter float a : \")\n",
    "b = input(\"enter float  b : \")\n",
    "print a + b\n",
    "print a - b\n",
    "print a * b\n",
    "print a ** b\n",
    "print a %b"
   ]
  },
  {
   "cell_type": "code",
   "execution_count": 5,
   "metadata": {},
   "outputs": [
    {
     "name": "stdout",
     "output_type": "stream",
     "text": [
      "enter int a : 20\n",
      "enter int  b : 3\n",
      "6\n",
      "6\n",
      "enter float a : 20.0\n",
      "enter float  b : 3.0\n",
      "6.66666666667\n",
      "6.0\n"
     ]
    }
   ],
   "source": [
    "a = input(\"enter int a : \")\n",
    "b = input(\"enter int  b : \")\n",
    "print a / b\n",
    "print a // b\n",
    "a = input(\"enter float a : \")\n",
    "b = input(\"enter float  b : \")\n",
    "print a / b\n",
    "print a // b\n"
   ]
  },
  {
   "cell_type": "code",
   "execution_count": 6,
   "metadata": {},
   "outputs": [
    {
     "name": "stdout",
     "output_type": "stream",
     "text": [
      "enter r  in meters :5.5\n",
      "area :  95.0714285714\n",
      "peri :  34.5714285714\n"
     ]
    }
   ],
   "source": [
    "# wap find the area and perimeter of circle\n",
    "'''\n",
    "peri  =  2 * pi * r\n",
    "area  = pi * (r**2)\n",
    "'''\n",
    "r = input(\"enter r  in meters :\")\n",
    "pi = 22.0 /7\n",
    "peri = 2*pi*r\n",
    "area = pi*(r**2)\n",
    "print \"area : \",area\n",
    "print \"peri : \",peri"
   ]
  },
  {
   "cell_type": "code",
   "execution_count": 7,
   "metadata": {},
   "outputs": [],
   "source": [
    "# wap find the area and perimeter square \n",
    "# wap find the area and perimeter rectangle\n",
    "# wap find the area and perimter of triangle\n",
    "# wap find the area and volume of cube \n",
    "# wap find the area and volume of cylender\n",
    "# wap find the simple intrest \n",
    "# wap converst degrees to radian and vice versa\n"
   ]
  },
  {
   "cell_type": "code",
   "execution_count": 8,
   "metadata": {},
   "outputs": [
    {
     "name": "stdout",
     "output_type": "stream",
     "text": [
      "enter int a : 10\n",
      "enter int  b : 20\n",
      "True\n",
      "False\n",
      "False\n",
      "True\n",
      "True\n",
      "False\n"
     ]
    }
   ],
   "source": [
    "# Relational operator\n",
    "'''\n",
    "==>> To compare any 2 operands\n",
    "==>> To relationship\n",
    "==>> to use condtional \n",
    "==>> Boolean operator\n",
    "'''\n",
    "#### 6 \n",
    "'''\n",
    "1. lessthan\n",
    "2. greaterthan\n",
    "3. equal to\n",
    "4. not equal to\n",
    "5. lessthan or equal to\n",
    "6. greater than or equal to\n",
    "'''\n",
    "a = input(\"enter int a : \")\n",
    "b = input(\"enter int  b : \")\n",
    "print a < b\n",
    "print a > b\n",
    "print a == b\n",
    "print a != b\n",
    "print a <= b\n",
    "print a  >= b"
   ]
  },
  {
   "cell_type": "code",
   "execution_count": 2,
   "metadata": {},
   "outputs": [
    {
     "name": "stdout",
     "output_type": "stream",
     "text": [
      "enter num : 44\n",
      "44  is even :  True\n"
     ]
    }
   ],
   "source": [
    "#WAP find the given number is even number or not\n",
    "\n",
    "num = input(\"enter num : \")\n",
    "rem = num %2\n",
    "print num,\" is even : \", rem == 0"
   ]
  },
  {
   "cell_type": "code",
   "execution_count": 3,
   "metadata": {},
   "outputs": [
    {
     "name": "stdout",
     "output_type": "stream",
     "text": [
      "123\n",
      "123\n",
      "1655\n"
     ]
    }
   ],
   "source": [
    "# Assignment operator  =\n",
    "'''\n",
    "===>> we can assign the data from right side to left side variable\n",
    "\n",
    "'''\n",
    "var = 123 # constant to variable\n",
    "a = var  # variable to variable\n",
    "c = a+var*12+56  # expression to variable\n",
    "print var\n",
    "print a\n",
    "print c"
   ]
  },
  {
   "cell_type": "code",
   "execution_count": 5,
   "metadata": {},
   "outputs": [
    {
     "name": "stdout",
     "output_type": "stream",
     "text": [
      "30\n",
      "30\n"
     ]
    }
   ],
   "source": [
    "# Operation then update  ---->> compound operator\n",
    "a = 10\n",
    "b = 20\n",
    "a = a+b # addition then update\n",
    "print a\n",
    "a = 10\n",
    "b = 20\n",
    "a += b # addition then update\n",
    "print a"
   ]
  },
  {
   "cell_type": "code",
   "execution_count": 6,
   "metadata": {},
   "outputs": [
    {
     "name": "stdout",
     "output_type": "stream",
     "text": [
      "-10\n",
      "-10\n"
     ]
    }
   ],
   "source": [
    "# Operation then update  ---->> compound operator\n",
    "a = 10\n",
    "b = 20\n",
    "a = a-b # subtraction then update\n",
    "print a\n",
    "a = 10\n",
    "b = 20\n",
    "a -= b # sub then update\n",
    "print a"
   ]
  },
  {
   "cell_type": "code",
   "execution_count": 7,
   "metadata": {},
   "outputs": [],
   "source": [
    "### apply all arithmetic operators for your compound opeations\n",
    "### and check the result "
   ]
  },
  {
   "cell_type": "code",
   "execution_count": 9,
   "metadata": {},
   "outputs": [
    {
     "name": "stdout",
     "output_type": "stream",
     "text": [
      "True\n",
      "False\n",
      "False\n",
      "True\n"
     ]
    }
   ],
   "source": [
    "# SPecial Operator\n",
    "'''\n",
    "===>> membership operator\n",
    "---------------------------\n",
    "===>>> Checking the available an element with in group of elements \n",
    "\n",
    "        1. in \n",
    "                True --->> Available\n",
    "                False -->> otherwise \n",
    "        2. not in\n",
    "                True  --->> not avaialble\n",
    "                False --->> Available\n",
    "\n",
    "\n",
    "\n",
    "\n",
    "\n",
    "===>> Identity Operator\n",
    "\n",
    "========>>> ckeck the memory loc of any 2 operands are same or not\n",
    "\n",
    "\n",
    "            is :\n",
    "                        True :  same memory\n",
    "                        False: different \n",
    "            \n",
    "            \n",
    "            is not :\n",
    "\n",
    "                        False : same memory\n",
    "                        True  : different\n",
    "\n",
    "\n",
    "'''\n",
    "\n",
    "a = 10\n",
    "b = [10,20,45]\n",
    "c = 100\n",
    "print a in b # True\n",
    "print a not in b  # False\n",
    "print c in b # False\n",
    "print c not in b # True"
   ]
  },
  {
   "cell_type": "code",
   "execution_count": null,
   "metadata": {},
   "outputs": [],
   "source": [
    "# wap enter character is vowel or not\n"
   ]
  },
  {
   "cell_type": "code",
   "execution_count": 11,
   "metadata": {},
   "outputs": [
    {
     "name": "stdout",
     "output_type": "stream",
     "text": [
      "[1, 2, 3]\n",
      "[1, 2, 3]\n",
      "[1, 2, 3]\n",
      "75770696\n",
      "75771144\n",
      "75770696\n",
      "False\n",
      "True\n",
      "True\n",
      "False\n"
     ]
    }
   ],
   "source": [
    "a = [1,2,3]\n",
    "b = [1,2,3]\n",
    "c = a\n",
    "print a\n",
    "print b\n",
    "print c\n",
    "print id(a)\n",
    "print id(b)\n",
    "print id(c)\n",
    "print a is b # False\n",
    "print a is not b # True\n",
    "print a is c # True\n",
    "print a is not c # False"
   ]
  },
  {
   "cell_type": "code",
   "execution_count": 12,
   "metadata": {},
   "outputs": [
    {
     "name": "stdout",
     "output_type": "stream",
     "text": [
      "True\n",
      "False\n"
     ]
    }
   ],
   "source": [
    "## Logical operator\n",
    "'''\n",
    "int --->>  0  --->>>  False case  /   +ve/ -ve ---->> True case\n",
    "float ->>  0.00 -->>  False Case /   +ve/-ve   ---->> True case\n",
    "complex--> 0+0j -->>  False case  /  otherwise  --->> True case\n",
    "Bool   --> False -->  False case  /  True  ------->>  True case\n",
    "Nonetype---.>>  None --->>> False case\n",
    "\n",
    "str , list, tuple, set,dict --->> len is  0 --->> False  ,  otherwise --> True\n",
    "\n",
    "'''\n",
    "# Logical Not    not \n",
    "'''\n",
    "input -->>> True  ---->>> output --->> False\n",
    "input -->>. False  --->>> output  --->> True\n",
    "'''\n",
    "print not  {}# True\n",
    "print not 67 # False"
   ]
  },
  {
   "cell_type": "code",
   "execution_count": 1,
   "metadata": {},
   "outputs": [
    {
     "name": "stdout",
     "output_type": "stream",
     "text": [
      "45\n",
      "0.001\n",
      "90\n"
     ]
    }
   ],
   "source": [
    "#### Logical or  --->>  or\n",
    "'''\n",
    "input1 or  input2 ----->>> result ---->>> ( input1 /  input2)\n",
    "\n",
    "===>>> The result of logical OR is depends on input1\n",
    "\n",
    "input1 ---->> True case ---->> result ---->>  input1\n",
    "input1 ---->> False case --->> result ---->>> input2\n",
    "\n",
    "'''\n",
    "print 45  or 56 # 45\n",
    "print 0.001 or 45 # 0.001\n",
    "print {}  or  90 #90\n",
    "\n"
   ]
  },
  {
   "cell_type": "code",
   "execution_count": 2,
   "metadata": {},
   "outputs": [
    {
     "name": "stdout",
     "output_type": "stream",
     "text": [
      "56\n",
      "45\n",
      "{}\n"
     ]
    }
   ],
   "source": [
    "#### Logical and  --->>  and\n",
    "'''\n",
    "input1 and  input2 ----->>> result ---->>> ( input1 /  input2)\n",
    "\n",
    "===>>> The result of logical AND is depends on input1\n",
    "\n",
    "input1 ---->> True case ---->> result ---->>  input2\n",
    "input1 ---->> False case --->> result ---->>> input1\n",
    "\n",
    "'''\n",
    "print 45  and 56 # 56\n",
    "print 0.001 and 45 # 45\n",
    "print {}  and  90 #{}\n"
   ]
  },
  {
   "cell_type": "code",
   "execution_count": null,
   "metadata": {},
   "outputs": [],
   "source": [
    "### wap find the given year is leap year or not "
   ]
  },
  {
   "cell_type": "code",
   "execution_count": 8,
   "metadata": {},
   "outputs": [
    {
     "name": "stdout",
     "output_type": "stream",
     "text": [
      "46\n",
      "60\n"
     ]
    }
   ],
   "source": [
    "# bitwise operator\n",
    "'''\n",
    "===>> Bitwise operators are operating on the binary data in given inputs\n",
    "\n",
    "=======>>>> Procedure \n",
    "\n",
    "1. decimal ----->>> binary \n",
    "2. do the opearation on your binary data\n",
    "3. binary rsult ---->> decimal result \n",
    "'''\n",
    "# bitwise or    |\n",
    "print  12 |  42\n",
    "print 56 |44"
   ]
  },
  {
   "cell_type": "code",
   "execution_count": 12,
   "metadata": {},
   "outputs": [
    {
     "name": "stdout",
     "output_type": "stream",
     "text": [
      "0b111000\n",
      "0b101100\n"
     ]
    },
    {
     "data": {
      "text/plain": [
       "20"
      ]
     },
     "execution_count": 12,
     "metadata": {},
     "output_type": "execute_result"
    }
   ],
   "source": [
    "print bin(56)\n",
    "print bin(44)\n",
    "int(0b010100)"
   ]
  },
  {
   "cell_type": "code",
   "execution_count": 11,
   "metadata": {},
   "outputs": [
    {
     "name": "stdout",
     "output_type": "stream",
     "text": [
      "40\n"
     ]
    }
   ],
   "source": [
    "# bitwise and   &\n",
    "print 56 & 44"
   ]
  },
  {
   "cell_type": "code",
   "execution_count": 13,
   "metadata": {},
   "outputs": [
    {
     "name": "stdout",
     "output_type": "stream",
     "text": [
      "20\n"
     ]
    }
   ],
   "source": [
    "# bitwise xor  ^\n",
    "'''\n",
    "0  0   ---> 0\n",
    "1  1   ---> 0\n",
    "0  1   --->  1\n",
    "1  0   --->  1\n",
    " '''\n",
    "print 56   ^  44"
   ]
  }
 ],
 "metadata": {
  "kernelspec": {
   "display_name": "Python 2",
   "language": "python",
   "name": "python2"
  },
  "language_info": {
   "codemirror_mode": {
    "name": "ipython",
    "version": 2
   },
   "file_extension": ".py",
   "mimetype": "text/x-python",
   "name": "python",
   "nbconvert_exporter": "python",
   "pygments_lexer": "ipython2",
   "version": "2.7.16"
  }
 },
 "nbformat": 4,
 "nbformat_minor": 2
}
