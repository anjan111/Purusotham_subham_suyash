{
 "cells": [
  {
   "cell_type": "code",
   "execution_count": null,
   "metadata": {},
   "outputs": [],
   "source": [
    "a = [1 , 2.23, 3]\n",
    "\n",
    "print type(a)\n",
    "print a\n",
    "for ele in a:\n",
    "    print type(ele)"
   ]
  },
  {
   "cell_type": "code",
   "execution_count": null,
   "metadata": {},
   "outputs": [],
   "source": [
    "# homogen\n",
    "import numpy\n",
    "a = numpy.array([1,2.23,3])\n",
    "print type(a) # nd-array\n",
    "print a\n",
    "for ele in a:\n",
    "    print type(ele)"
   ]
  },
  {
   "cell_type": "code",
   "execution_count": null,
   "metadata": {},
   "outputs": [],
   "source": [
    "a = [1,3,5]\n",
    "b = [5,7,2]\n",
    "print a+b"
   ]
  },
  {
   "cell_type": "code",
   "execution_count": 2,
   "metadata": {},
   "outputs": [
    {
     "name": "stdout",
     "output_type": "stream",
     "text": [
      "[ 6 10  7]\n"
     ]
    }
   ],
   "source": [
    "import numpy\n",
    "a =numpy.array([1,3,5])\n",
    "b = numpy.array([5,7,2])\n",
    "print a+b"
   ]
  },
  {
   "cell_type": "code",
   "execution_count": null,
   "metadata": {},
   "outputs": [],
   "source": []
  },
  {
   "cell_type": "code",
   "execution_count": 1,
   "metadata": {},
   "outputs": [
    {
     "name": "stdout",
     "output_type": "stream",
     "text": [
      "[6, 10, 7]\n"
     ]
    }
   ],
   "source": [
    "a = [1,3,5]\n",
    "b = [5,7,2]\n",
    "i = 0\n",
    "c = []\n",
    "while(i < len(a)):\n",
    "    ele = a[i]+b[i]\n",
    "    c.append(ele)\n",
    "    i = i+1\n",
    "print c"
   ]
  },
  {
   "cell_type": "code",
   "execution_count": 3,
   "metadata": {},
   "outputs": [
    {
     "data": {
      "text/plain": [
       "[0, 1, 2, 3, 4, 5, 6, 7, 8, 9]"
      ]
     },
     "execution_count": 3,
     "metadata": {},
     "output_type": "execute_result"
    }
   ],
   "source": [
    "range(10)"
   ]
  },
  {
   "cell_type": "code",
   "execution_count": 5,
   "metadata": {},
   "outputs": [
    {
     "data": {
      "text/plain": [
       "array([0, 1, 2, 3, 4, 5, 6, 7, 8, 9])"
      ]
     },
     "execution_count": 5,
     "metadata": {},
     "output_type": "execute_result"
    }
   ],
   "source": [
    "import numpy\n",
    "numpy.arange(10)"
   ]
  },
  {
   "cell_type": "code",
   "execution_count": 8,
   "metadata": {},
   "outputs": [
    {
     "name": "stdout",
     "output_type": "stream",
     "text": [
      "[0, 1, 8, 27, 64, 125, 216, 343, 512, 729, 1000, 1331, 1728, 2197, 2744, 3375, 4096, 4913, 5832, 6859, 8000, 9261, 10648, 12167, 13824, 15625, 17576, 19683, 21952, 24389, 27000, 29791, 32768, 35937, 39304, 42875, 46656, 50653, 54872, 59319, 64000, 68921, 74088, 79507, 85184, 91125, 97336, 103823, 110592, 117649, 125000, 132651, 140608, 148877, 157464, 166375, 175616, 185193, 195112, 205379, 216000, 226981, 238328, 250047, 262144, 274625, 287496, 300763, 314432, 328509, 343000, 357911, 373248, 389017, 405224, 421875, 438976, 456533, 474552, 493039, 512000, 531441, 551368, 571787, 592704, 614125, 636056, 658503, 681472, 704969, 729000, 753571, 778688, 804357, 830584, 857375, 884736, 912673, 941192, 970299]\n"
     ]
    }
   ],
   "source": [
    "a =  range(100)\n",
    "b = [ i ** 3 for i in a]\n",
    "print b"
   ]
  },
  {
   "cell_type": "code",
   "execution_count": 9,
   "metadata": {},
   "outputs": [
    {
     "name": "stdout",
     "output_type": "stream",
     "text": [
      "100000 loops, best of 3: 10.1 µs per loop\n"
     ]
    }
   ],
   "source": [
    "a =  range(100)\n",
    "%timeit b = [ i ** 3 for i in a]\n"
   ]
  },
  {
   "cell_type": "code",
   "execution_count": null,
   "metadata": {},
   "outputs": [],
   "source": []
  },
  {
   "cell_type": "code",
   "execution_count": 10,
   "metadata": {},
   "outputs": [
    {
     "name": "stdout",
     "output_type": "stream",
     "text": [
      "[     0      1      8     27     64    125    216    343    512    729\n",
      "   1000   1331   1728   2197   2744   3375   4096   4913   5832   6859\n",
      "   8000   9261  10648  12167  13824  15625  17576  19683  21952  24389\n",
      "  27000  29791  32768  35937  39304  42875  46656  50653  54872  59319\n",
      "  64000  68921  74088  79507  85184  91125  97336 103823 110592 117649\n",
      " 125000 132651 140608 148877 157464 166375 175616 185193 195112 205379\n",
      " 216000 226981 238328 250047 262144 274625 287496 300763 314432 328509\n",
      " 343000 357911 373248 389017 405224 421875 438976 456533 474552 493039\n",
      " 512000 531441 551368 571787 592704 614125 636056 658503 681472 704969\n",
      " 729000 753571 778688 804357 830584 857375 884736 912673 941192 970299]\n"
     ]
    }
   ],
   "source": [
    "a = numpy.arange(100)\n",
    "b = a ** 3\n",
    "print b"
   ]
  },
  {
   "cell_type": "code",
   "execution_count": 1,
   "metadata": {},
   "outputs": [
    {
     "name": "stdout",
     "output_type": "stream",
     "text": [
      "The slowest run took 7.99 times longer than the fastest. This could mean that an intermediate result is being cached.\n",
      "100000 loops, best of 3: 2.06 µs per loop\n"
     ]
    }
   ],
   "source": [
    "import numpy\n",
    "a = numpy.arange(100)\n",
    "%timeit b = a ** 3\n"
   ]
  },
  {
   "cell_type": "code",
   "execution_count": null,
   "metadata": {},
   "outputs": [],
   "source": []
  }
 ],
 "metadata": {
  "kernelspec": {
   "display_name": "Python 2",
   "language": "python",
   "name": "python2"
  },
  "language_info": {
   "codemirror_mode": {
    "name": "ipython",
    "version": 2
   },
   "file_extension": ".py",
   "mimetype": "text/x-python",
   "name": "python",
   "nbconvert_exporter": "python",
   "pygments_lexer": "ipython2",
   "version": "2.7.16"
  }
 },
 "nbformat": 4,
 "nbformat_minor": 2
}
